{
 "cells": [
  {
   "cell_type": "markdown",
   "id": "stylish-easter",
   "metadata": {},
   "source": [
    "# Data Analysis on RAW DATA"
   ]
  },
  {
   "cell_type": "code",
   "execution_count": 1,
   "id": "atomic-digit",
   "metadata": {},
   "outputs": [],
   "source": [
    "import pandas as pd\n",
    "import numpy as np\n",
    "from sklearn.metrics import confusion_matrix\n",
    "from sklearn.metrics import classification_report\n",
    "from sklearn.metrics import accuracy_score\n",
    "from sklearn import metrics\n",
    "import matplotlib.pyplot as plt"
   ]
  },
  {
   "cell_type": "markdown",
   "id": "animated-affect",
   "metadata": {},
   "source": [
    "## Read The Data"
   ]
  },
  {
   "cell_type": "code",
   "execution_count": 2,
   "id": "beginning-monitor",
   "metadata": {},
   "outputs": [
    {
     "data": {
      "text/html": [
       "<div>\n",
       "<style scoped>\n",
       "    .dataframe tbody tr th:only-of-type {\n",
       "        vertical-align: middle;\n",
       "    }\n",
       "\n",
       "    .dataframe tbody tr th {\n",
       "        vertical-align: top;\n",
       "    }\n",
       "\n",
       "    .dataframe thead th {\n",
       "        text-align: right;\n",
       "    }\n",
       "</style>\n",
       "<table border=\"1\" class=\"dataframe\">\n",
       "  <thead>\n",
       "    <tr style=\"text-align: right;\">\n",
       "      <th></th>\n",
       "      <th>id</th>\n",
       "      <th>age</th>\n",
       "      <th>bp</th>\n",
       "      <th>sg</th>\n",
       "      <th>al</th>\n",
       "      <th>su</th>\n",
       "      <th>rbc</th>\n",
       "      <th>pc</th>\n",
       "      <th>pcc</th>\n",
       "      <th>ba</th>\n",
       "      <th>...</th>\n",
       "      <th>pcv</th>\n",
       "      <th>wc</th>\n",
       "      <th>rc</th>\n",
       "      <th>htn</th>\n",
       "      <th>dm</th>\n",
       "      <th>cad</th>\n",
       "      <th>appet</th>\n",
       "      <th>pe</th>\n",
       "      <th>ane</th>\n",
       "      <th>classification</th>\n",
       "    </tr>\n",
       "  </thead>\n",
       "  <tbody>\n",
       "    <tr>\n",
       "      <th>0</th>\n",
       "      <td>157</td>\n",
       "      <td>62.0</td>\n",
       "      <td>70.0</td>\n",
       "      <td>1.025</td>\n",
       "      <td>3.0</td>\n",
       "      <td>0.0</td>\n",
       "      <td>normal</td>\n",
       "      <td>abnormal</td>\n",
       "      <td>notpresent</td>\n",
       "      <td>notpresent</td>\n",
       "      <td>...</td>\n",
       "      <td>39.0</td>\n",
       "      <td>7900</td>\n",
       "      <td>3.9</td>\n",
       "      <td>yes</td>\n",
       "      <td>yes</td>\n",
       "      <td>no</td>\n",
       "      <td>good</td>\n",
       "      <td>no</td>\n",
       "      <td>no</td>\n",
       "      <td>ckd</td>\n",
       "    </tr>\n",
       "    <tr>\n",
       "      <th>1</th>\n",
       "      <td>109</td>\n",
       "      <td>54.0</td>\n",
       "      <td>70.0</td>\n",
       "      <td>NaN</td>\n",
       "      <td>NaN</td>\n",
       "      <td>NaN</td>\n",
       "      <td>NaN</td>\n",
       "      <td>NaN</td>\n",
       "      <td>notpresent</td>\n",
       "      <td>notpresent</td>\n",
       "      <td>...</td>\n",
       "      <td>NaN</td>\n",
       "      <td>NaN</td>\n",
       "      <td>NaN</td>\n",
       "      <td>no</td>\n",
       "      <td>yes</td>\n",
       "      <td>no</td>\n",
       "      <td>good</td>\n",
       "      <td>no</td>\n",
       "      <td>no</td>\n",
       "      <td>ckd</td>\n",
       "    </tr>\n",
       "    <tr>\n",
       "      <th>2</th>\n",
       "      <td>17</td>\n",
       "      <td>47.0</td>\n",
       "      <td>80.0</td>\n",
       "      <td>NaN</td>\n",
       "      <td>NaN</td>\n",
       "      <td>NaN</td>\n",
       "      <td>NaN</td>\n",
       "      <td>NaN</td>\n",
       "      <td>notpresent</td>\n",
       "      <td>notpresent</td>\n",
       "      <td>...</td>\n",
       "      <td>NaN</td>\n",
       "      <td>NaN</td>\n",
       "      <td>NaN</td>\n",
       "      <td>yes</td>\n",
       "      <td>no</td>\n",
       "      <td>no</td>\n",
       "      <td>poor</td>\n",
       "      <td>no</td>\n",
       "      <td>no</td>\n",
       "      <td>ckd</td>\n",
       "    </tr>\n",
       "    <tr>\n",
       "      <th>3</th>\n",
       "      <td>347</td>\n",
       "      <td>43.0</td>\n",
       "      <td>60.0</td>\n",
       "      <td>1.025</td>\n",
       "      <td>0.0</td>\n",
       "      <td>0.0</td>\n",
       "      <td>normal</td>\n",
       "      <td>normal</td>\n",
       "      <td>notpresent</td>\n",
       "      <td>notpresent</td>\n",
       "      <td>...</td>\n",
       "      <td>43.0</td>\n",
       "      <td>7200</td>\n",
       "      <td>5.5</td>\n",
       "      <td>no</td>\n",
       "      <td>no</td>\n",
       "      <td>no</td>\n",
       "      <td>good</td>\n",
       "      <td>no</td>\n",
       "      <td>no</td>\n",
       "      <td>notckd</td>\n",
       "    </tr>\n",
       "    <tr>\n",
       "      <th>4</th>\n",
       "      <td>24</td>\n",
       "      <td>42.0</td>\n",
       "      <td>100.0</td>\n",
       "      <td>1.015</td>\n",
       "      <td>4.0</td>\n",
       "      <td>0.0</td>\n",
       "      <td>normal</td>\n",
       "      <td>abnormal</td>\n",
       "      <td>notpresent</td>\n",
       "      <td>present</td>\n",
       "      <td>...</td>\n",
       "      <td>39.0</td>\n",
       "      <td>8300</td>\n",
       "      <td>4.6</td>\n",
       "      <td>yes</td>\n",
       "      <td>no</td>\n",
       "      <td>no</td>\n",
       "      <td>poor</td>\n",
       "      <td>no</td>\n",
       "      <td>no</td>\n",
       "      <td>ckd</td>\n",
       "    </tr>\n",
       "  </tbody>\n",
       "</table>\n",
       "<p>5 rows × 26 columns</p>\n",
       "</div>"
      ],
      "text/plain": [
       "    id   age     bp     sg   al   su     rbc        pc         pcc  \\\n",
       "0  157  62.0   70.0  1.025  3.0  0.0  normal  abnormal  notpresent   \n",
       "1  109  54.0   70.0    NaN  NaN  NaN     NaN       NaN  notpresent   \n",
       "2   17  47.0   80.0    NaN  NaN  NaN     NaN       NaN  notpresent   \n",
       "3  347  43.0   60.0  1.025  0.0  0.0  normal    normal  notpresent   \n",
       "4   24  42.0  100.0  1.015  4.0  0.0  normal  abnormal  notpresent   \n",
       "\n",
       "           ba  ...   pcv    wc   rc  htn   dm  cad  appet  pe ane  \\\n",
       "0  notpresent  ...  39.0  7900  3.9  yes  yes   no   good  no  no   \n",
       "1  notpresent  ...   NaN   NaN  NaN   no  yes   no   good  no  no   \n",
       "2  notpresent  ...   NaN   NaN  NaN  yes   no   no   poor  no  no   \n",
       "3  notpresent  ...  43.0  7200  5.5   no   no   no   good  no  no   \n",
       "4     present  ...  39.0  8300  4.6  yes   no   no   poor  no  no   \n",
       "\n",
       "  classification  \n",
       "0            ckd  \n",
       "1            ckd  \n",
       "2            ckd  \n",
       "3         notckd  \n",
       "4            ckd  \n",
       "\n",
       "[5 rows x 26 columns]"
      ]
     },
     "execution_count": 2,
     "metadata": {},
     "output_type": "execute_result"
    }
   ],
   "source": [
    "data = pd.read_csv('kidney_disease_train.csv')\n",
    "data.head()"
   ]
  },
  {
   "cell_type": "code",
   "execution_count": 3,
   "id": "subtle-thomas",
   "metadata": {},
   "outputs": [
    {
     "data": {
      "text/plain": [
       "id                  int64\n",
       "age               float64\n",
       "bp                float64\n",
       "sg                float64\n",
       "al                float64\n",
       "su                float64\n",
       "rbc                object\n",
       "pc                 object\n",
       "pcc                object\n",
       "ba                 object\n",
       "bgr               float64\n",
       "bu                float64\n",
       "sc                float64\n",
       "sod               float64\n",
       "pot               float64\n",
       "hemo              float64\n",
       "pcv               float64\n",
       "wc                 object\n",
       "rc                 object\n",
       "htn                object\n",
       "dm                 object\n",
       "cad                object\n",
       "appet              object\n",
       "pe                 object\n",
       "ane                object\n",
       "classification     object\n",
       "dtype: object"
      ]
     },
     "execution_count": 3,
     "metadata": {},
     "output_type": "execute_result"
    }
   ],
   "source": [
    "data.dtypes"
   ]
  },
  {
   "cell_type": "code",
   "execution_count": 4,
   "id": "median-replica",
   "metadata": {},
   "outputs": [
    {
     "data": {
      "text/plain": [
       "id                  0\n",
       "age                 5\n",
       "bp                  9\n",
       "sg                 36\n",
       "al                 35\n",
       "su                 38\n",
       "rbc               107\n",
       "pc                 50\n",
       "pcc                 4\n",
       "ba                  4\n",
       "bgr                33\n",
       "bu                 14\n",
       "sc                 12\n",
       "sod                67\n",
       "pot                68\n",
       "hemo               39\n",
       "pcv                51\n",
       "wc                 77\n",
       "rc                 93\n",
       "htn                 1\n",
       "dm                  1\n",
       "cad                 1\n",
       "appet               0\n",
       "pe                  0\n",
       "ane                 0\n",
       "classification      0\n",
       "dtype: int64"
      ]
     },
     "execution_count": 4,
     "metadata": {},
     "output_type": "execute_result"
    }
   ],
   "source": [
    "data.isnull().sum()"
   ]
  },
  {
   "cell_type": "code",
   "execution_count": 5,
   "id": "smoking-heaven",
   "metadata": {},
   "outputs": [],
   "source": [
    "for var in ['age', 'bp', 'sg', 'al', 'su','bgr','bu','sc','sod','pot','hemo','pcv']:\n",
    "    value = data[var].mean()\n",
    "    data[var] = data[var].fillna(value)"
   ]
  },
  {
   "cell_type": "code",
   "execution_count": 6,
   "id": "abstract-domestic",
   "metadata": {},
   "outputs": [
    {
     "data": {
      "text/plain": [
       "id                  0\n",
       "age                 0\n",
       "bp                  0\n",
       "sg                  0\n",
       "al                  0\n",
       "su                  0\n",
       "rbc               107\n",
       "pc                 50\n",
       "pcc                 4\n",
       "ba                  4\n",
       "bgr                 0\n",
       "bu                  0\n",
       "sc                  0\n",
       "sod                 0\n",
       "pot                 0\n",
       "hemo                0\n",
       "pcv                 0\n",
       "wc                 77\n",
       "rc                 93\n",
       "htn                 1\n",
       "dm                  1\n",
       "cad                 1\n",
       "appet               0\n",
       "pe                  0\n",
       "ane                 0\n",
       "classification      0\n",
       "dtype: int64"
      ]
     },
     "execution_count": 6,
     "metadata": {},
     "output_type": "execute_result"
    }
   ],
   "source": [
    "data.isnull().sum()"
   ]
  },
  {
   "cell_type": "code",
   "execution_count": 7,
   "id": "reasonable-sussex",
   "metadata": {},
   "outputs": [
    {
     "name": "stdout",
     "output_type": "stream",
     "text": [
      "['normal' nan 'abnormal']\n",
      "['abnormal' nan 'normal']\n",
      "['notpresent' 'present' nan]\n",
      "['notpresent' 'present' nan]\n",
      "['7900' nan '7200' '8300' '4200' '9900' '10500' '2200' '7500' '8400'\n",
      " '15700' '7000' '4700' '9600' '6700' '9000' '5900' '4300' '12700' '5500'\n",
      " '5000' '9700' '6900' '9800' '5800' '6400' '8100' '15200' '5600' '14900'\n",
      " '9100' '26400' '8000' '6500' '9200' '6800' '10800' '4500' '\\t?' '10700'\n",
      " '11000' '9400' '6300' '10300' '9500' '6200' '6600' '4100' '7700' '5400'\n",
      " '13600' '\\t8400' '11500' '10900' '12200' '8600' '7300' '5200' '7400'\n",
      " '12800' '6000' '9300' '7800' '10400' '8800' '10200' '16700' '8500'\n",
      " '21600' '12500' '13200' '5100' '12300' '18900' '5700' '8200' '16300'\n",
      " '4900' '14600']\n",
      "['3.9' nan '5.5' '4.6' '3.4' '4.7' '6.1' '2.6' '5.6' '3.3' '3.8' '5.0'\n",
      " '4.5' '5.7' '3.5' '6.0' '5.2' '4.2' '3.7' '5.9' '4.9' '4.8' '3.2' '3.0'\n",
      " '3.6' '4.0' '2.5' '4.1' '6.2' '5.1' '6.5' '5.8' '4.4' '5.4' '3' '4.3' '4'\n",
      " '2.1' '8.0' '5.3' '3.1' '2.3' '\\t?' '2.9' '6.3' '6.4' '2.4' '2.7' '5']\n",
      "['yes' 'no' nan]\n",
      "['yes' 'no' '\\tyes' '\\tno' nan]\n",
      "['no' 'yes' nan '\\tno']\n"
     ]
    }
   ],
   "source": [
    "for var in ['rbc', 'pc', 'pcc', 'ba','wc','rc','htn','dm','cad']:\n",
    "    value = data[var].mode()\n",
    "    print(data[var].unique())"
   ]
  },
  {
   "cell_type": "code",
   "execution_count": 8,
   "id": "difficult-annex",
   "metadata": {},
   "outputs": [],
   "source": [
    "data['rbc'] = data['rbc'].fillna(\"normal\")\n",
    "data[\"pc\"] = data[\"pc\"].fillna('normal')\n",
    "data[\"pcc\"] = data[\"pcc\"].fillna('notpresent')\n",
    "data[\"ba\"] = data[\"ba\"].fillna('notpresent')\n",
    "data[\"wc\"] = data[\"wc\"].fillna('9600')\n",
    "data[\"rc\"] = data[\"rc\"].fillna('5.2')\n",
    "data[\"htn\"] = data[\"htn\"].fillna('no')\n",
    "data[\"dm\"] = data[\"dm\"].fillna('no')\n",
    "data[\"cad\"] = data[\"cad\"].fillna('no')"
   ]
  },
  {
   "cell_type": "code",
   "execution_count": 9,
   "id": "later-anime",
   "metadata": {},
   "outputs": [],
   "source": [
    "data['classification'] = data['classification'].map({'notckd':1,'ckd':0})\n",
    "data['rbc'] = data['rbc'].map({'normal':1,'abnormal':0})\n",
    "data['pc'] = data['pc'].map({'notpresent':1,'present':0})\n",
    "data['pcc'] = data['pcc'].map({'notpresent':1,'present':0})\n",
    "data['htn'] = data['htn'].map({'yes':1,'no':0})\n",
    "data['dm'] = data['dm'].map({'yes':1,'no':0})\n",
    "data['cad'] = data['cad'].map({'yes':1,'no':0})\n",
    "data[\"ba\"] = data[\"ba\"].map({'notpresent':1,'present':0})\n",
    "data['appet'] = data['appet'].map({'poor':1,'good':0})\n",
    "data['pe'] = data['pe'].map({'no':1,'yes':0})\n",
    "data['ane'] = data['ane'].map({'no':1,'yes':0})"
   ]
  },
  {
   "cell_type": "code",
   "execution_count": 10,
   "id": "imposed-clock",
   "metadata": {},
   "outputs": [],
   "source": [
    "data[\"dm\"] = data[\"dm\"].fillna(0)\n",
    "data[\"cad\"] = data[\"cad\"].fillna(0)\n",
    "data[\"pc\"] = data[\"pc\"].fillna(0)"
   ]
  },
  {
   "cell_type": "code",
   "execution_count": 11,
   "id": "occasional-devil",
   "metadata": {},
   "outputs": [
    {
     "data": {
      "text/plain": [
       "0    0.0\n",
       "dtype: float64"
      ]
     },
     "execution_count": 11,
     "metadata": {},
     "output_type": "execute_result"
    }
   ],
   "source": [
    "data['dm'].mode()"
   ]
  },
  {
   "cell_type": "code",
   "execution_count": 12,
   "id": "considered-agent",
   "metadata": {},
   "outputs": [
    {
     "data": {
      "text/plain": [
       "array([0, 1], dtype=int64)"
      ]
     },
     "execution_count": 12,
     "metadata": {},
     "output_type": "execute_result"
    }
   ],
   "source": [
    "data['appet'].unique()"
   ]
  },
  {
   "cell_type": "code",
   "execution_count": 13,
   "id": "alike-balloon",
   "metadata": {},
   "outputs": [
    {
     "data": {
      "text/plain": [
       "0    0.0\n",
       "dtype: float64"
      ]
     },
     "execution_count": 13,
     "metadata": {},
     "output_type": "execute_result"
    }
   ],
   "source": [
    "data['cad'].mode()"
   ]
  },
  {
   "cell_type": "code",
   "execution_count": 14,
   "id": "afraid-subsection",
   "metadata": {},
   "outputs": [
    {
     "data": {
      "text/plain": [
       "array([1, 0], dtype=int64)"
      ]
     },
     "execution_count": 14,
     "metadata": {},
     "output_type": "execute_result"
    }
   ],
   "source": [
    "data['ane'].unique()"
   ]
  },
  {
   "cell_type": "code",
   "execution_count": 15,
   "id": "linear-friend",
   "metadata": {},
   "outputs": [
    {
     "data": {
      "text/plain": [
       "array([0., 1.])"
      ]
     },
     "execution_count": 15,
     "metadata": {},
     "output_type": "execute_result"
    }
   ],
   "source": [
    "data['cad'].unique()"
   ]
  },
  {
   "cell_type": "code",
   "execution_count": 16,
   "id": "hearing-comfort",
   "metadata": {},
   "outputs": [
    {
     "data": {
      "text/plain": [
       "id                0\n",
       "age               0\n",
       "bp                0\n",
       "sg                0\n",
       "al                0\n",
       "su                0\n",
       "rbc               0\n",
       "pc                0\n",
       "pcc               0\n",
       "ba                0\n",
       "bgr               0\n",
       "bu                0\n",
       "sc                0\n",
       "sod               0\n",
       "pot               0\n",
       "hemo              0\n",
       "pcv               0\n",
       "wc                0\n",
       "rc                0\n",
       "htn               0\n",
       "dm                0\n",
       "cad               0\n",
       "appet             0\n",
       "pe                0\n",
       "ane               0\n",
       "classification    0\n",
       "dtype: int64"
      ]
     },
     "execution_count": 16,
     "metadata": {},
     "output_type": "execute_result"
    }
   ],
   "source": [
    "data.isnull().sum()"
   ]
  },
  {
   "cell_type": "code",
   "execution_count": 17,
   "id": "every-silly",
   "metadata": {},
   "outputs": [
    {
     "data": {
      "text/html": [
       "<div>\n",
       "<style scoped>\n",
       "    .dataframe tbody tr th:only-of-type {\n",
       "        vertical-align: middle;\n",
       "    }\n",
       "\n",
       "    .dataframe tbody tr th {\n",
       "        vertical-align: top;\n",
       "    }\n",
       "\n",
       "    .dataframe thead th {\n",
       "        text-align: right;\n",
       "    }\n",
       "</style>\n",
       "<table border=\"1\" class=\"dataframe\">\n",
       "  <thead>\n",
       "    <tr style=\"text-align: right;\">\n",
       "      <th></th>\n",
       "      <th>id</th>\n",
       "      <th>age</th>\n",
       "      <th>bp</th>\n",
       "      <th>sg</th>\n",
       "      <th>al</th>\n",
       "      <th>su</th>\n",
       "      <th>rbc</th>\n",
       "      <th>pc</th>\n",
       "      <th>pcc</th>\n",
       "      <th>ba</th>\n",
       "      <th>...</th>\n",
       "      <th>pcv</th>\n",
       "      <th>wc</th>\n",
       "      <th>rc</th>\n",
       "      <th>htn</th>\n",
       "      <th>dm</th>\n",
       "      <th>cad</th>\n",
       "      <th>appet</th>\n",
       "      <th>pe</th>\n",
       "      <th>ane</th>\n",
       "      <th>classification</th>\n",
       "    </tr>\n",
       "  </thead>\n",
       "  <tbody>\n",
       "    <tr>\n",
       "      <th>0</th>\n",
       "      <td>157</td>\n",
       "      <td>62.0</td>\n",
       "      <td>70.0</td>\n",
       "      <td>1.025000</td>\n",
       "      <td>3.00000</td>\n",
       "      <td>0.000000</td>\n",
       "      <td>1</td>\n",
       "      <td>0.0</td>\n",
       "      <td>1</td>\n",
       "      <td>1</td>\n",
       "      <td>...</td>\n",
       "      <td>39.000000</td>\n",
       "      <td>7900</td>\n",
       "      <td>3.9</td>\n",
       "      <td>1</td>\n",
       "      <td>1.0</td>\n",
       "      <td>0.0</td>\n",
       "      <td>0</td>\n",
       "      <td>1</td>\n",
       "      <td>1</td>\n",
       "      <td>0</td>\n",
       "    </tr>\n",
       "    <tr>\n",
       "      <th>1</th>\n",
       "      <td>109</td>\n",
       "      <td>54.0</td>\n",
       "      <td>70.0</td>\n",
       "      <td>1.017439</td>\n",
       "      <td>1.02449</td>\n",
       "      <td>0.438017</td>\n",
       "      <td>1</td>\n",
       "      <td>0.0</td>\n",
       "      <td>1</td>\n",
       "      <td>1</td>\n",
       "      <td>...</td>\n",
       "      <td>39.165939</td>\n",
       "      <td>9600</td>\n",
       "      <td>5.2</td>\n",
       "      <td>0</td>\n",
       "      <td>1.0</td>\n",
       "      <td>0.0</td>\n",
       "      <td>0</td>\n",
       "      <td>1</td>\n",
       "      <td>1</td>\n",
       "      <td>0</td>\n",
       "    </tr>\n",
       "    <tr>\n",
       "      <th>2</th>\n",
       "      <td>17</td>\n",
       "      <td>47.0</td>\n",
       "      <td>80.0</td>\n",
       "      <td>1.017439</td>\n",
       "      <td>1.02449</td>\n",
       "      <td>0.438017</td>\n",
       "      <td>1</td>\n",
       "      <td>0.0</td>\n",
       "      <td>1</td>\n",
       "      <td>1</td>\n",
       "      <td>...</td>\n",
       "      <td>39.165939</td>\n",
       "      <td>9600</td>\n",
       "      <td>5.2</td>\n",
       "      <td>1</td>\n",
       "      <td>0.0</td>\n",
       "      <td>0.0</td>\n",
       "      <td>1</td>\n",
       "      <td>1</td>\n",
       "      <td>1</td>\n",
       "      <td>0</td>\n",
       "    </tr>\n",
       "    <tr>\n",
       "      <th>3</th>\n",
       "      <td>347</td>\n",
       "      <td>43.0</td>\n",
       "      <td>60.0</td>\n",
       "      <td>1.025000</td>\n",
       "      <td>0.00000</td>\n",
       "      <td>0.000000</td>\n",
       "      <td>1</td>\n",
       "      <td>0.0</td>\n",
       "      <td>1</td>\n",
       "      <td>1</td>\n",
       "      <td>...</td>\n",
       "      <td>43.000000</td>\n",
       "      <td>7200</td>\n",
       "      <td>5.5</td>\n",
       "      <td>0</td>\n",
       "      <td>0.0</td>\n",
       "      <td>0.0</td>\n",
       "      <td>0</td>\n",
       "      <td>1</td>\n",
       "      <td>1</td>\n",
       "      <td>1</td>\n",
       "    </tr>\n",
       "    <tr>\n",
       "      <th>4</th>\n",
       "      <td>24</td>\n",
       "      <td>42.0</td>\n",
       "      <td>100.0</td>\n",
       "      <td>1.015000</td>\n",
       "      <td>4.00000</td>\n",
       "      <td>0.000000</td>\n",
       "      <td>1</td>\n",
       "      <td>0.0</td>\n",
       "      <td>1</td>\n",
       "      <td>0</td>\n",
       "      <td>...</td>\n",
       "      <td>39.000000</td>\n",
       "      <td>8300</td>\n",
       "      <td>4.6</td>\n",
       "      <td>1</td>\n",
       "      <td>0.0</td>\n",
       "      <td>0.0</td>\n",
       "      <td>1</td>\n",
       "      <td>1</td>\n",
       "      <td>1</td>\n",
       "      <td>0</td>\n",
       "    </tr>\n",
       "  </tbody>\n",
       "</table>\n",
       "<p>5 rows × 26 columns</p>\n",
       "</div>"
      ],
      "text/plain": [
       "    id   age     bp        sg       al        su  rbc   pc  pcc  ba  ...  \\\n",
       "0  157  62.0   70.0  1.025000  3.00000  0.000000    1  0.0    1   1  ...   \n",
       "1  109  54.0   70.0  1.017439  1.02449  0.438017    1  0.0    1   1  ...   \n",
       "2   17  47.0   80.0  1.017439  1.02449  0.438017    1  0.0    1   1  ...   \n",
       "3  347  43.0   60.0  1.025000  0.00000  0.000000    1  0.0    1   1  ...   \n",
       "4   24  42.0  100.0  1.015000  4.00000  0.000000    1  0.0    1   0  ...   \n",
       "\n",
       "         pcv    wc   rc  htn   dm  cad  appet pe ane  classification  \n",
       "0  39.000000  7900  3.9    1  1.0  0.0      0  1   1               0  \n",
       "1  39.165939  9600  5.2    0  1.0  0.0      0  1   1               0  \n",
       "2  39.165939  9600  5.2    1  0.0  0.0      1  1   1               0  \n",
       "3  43.000000  7200  5.5    0  0.0  0.0      0  1   1               1  \n",
       "4  39.000000  8300  4.6    1  0.0  0.0      1  1   1               0  \n",
       "\n",
       "[5 rows x 26 columns]"
      ]
     },
     "execution_count": 17,
     "metadata": {},
     "output_type": "execute_result"
    }
   ],
   "source": [
    "data.head()"
   ]
  },
  {
   "cell_type": "code",
   "execution_count": 18,
   "id": "satisfactory-dealer",
   "metadata": {},
   "outputs": [
    {
     "data": {
      "text/plain": [
       "id                  int64\n",
       "age               float64\n",
       "bp                float64\n",
       "sg                float64\n",
       "al                float64\n",
       "su                float64\n",
       "rbc                 int64\n",
       "pc                float64\n",
       "pcc                 int64\n",
       "ba                  int64\n",
       "bgr               float64\n",
       "bu                float64\n",
       "sc                float64\n",
       "sod               float64\n",
       "pot               float64\n",
       "hemo              float64\n",
       "pcv               float64\n",
       "wc                 object\n",
       "rc                 object\n",
       "htn                 int64\n",
       "dm                float64\n",
       "cad               float64\n",
       "appet               int64\n",
       "pe                  int64\n",
       "ane                 int64\n",
       "classification      int64\n",
       "dtype: object"
      ]
     },
     "execution_count": 18,
     "metadata": {},
     "output_type": "execute_result"
    }
   ],
   "source": [
    "data.dtypes"
   ]
  },
  {
   "cell_type": "code",
   "execution_count": 19,
   "id": "executive-tissue",
   "metadata": {},
   "outputs": [
    {
     "data": {
      "text/plain": [
       "Index(['id', 'age', 'bp', 'sg', 'al', 'su', 'rbc', 'pc', 'pcc', 'ba', 'bgr',\n",
       "       'bu', 'sc', 'sod', 'pot', 'hemo', 'pcv', 'wc', 'rc', 'htn', 'dm', 'cad',\n",
       "       'appet', 'pe', 'ane', 'classification'],\n",
       "      dtype='object')"
      ]
     },
     "execution_count": 19,
     "metadata": {},
     "output_type": "execute_result"
    }
   ],
   "source": [
    "data.columns"
   ]
  },
  {
   "cell_type": "code",
   "execution_count": 20,
   "id": "referenced-priest",
   "metadata": {},
   "outputs": [
    {
     "data": {
      "image/png": "[encoded data removed]",
      "text/plain": [
       "<Figure size 864x864 with 25 Axes>"
      ]
     },
     "metadata": {
      "needs_background": "light"
     },
     "output_type": "display_data"
    }
   ],
   "source": [
    "data.hist(bins=30, figsize=(12,12), density=True)\n",
    "plt.show()"
   ]
  },
  {
   "cell_type": "code",
   "execution_count": 21,
   "id": "synthetic-brighton",
   "metadata": {},
   "outputs": [],
   "source": [
    "X = data[['age', 'bp', 'sg', 'al', 'su', 'rbc', 'pc', 'pcc', 'ba', 'bgr',\n",
    "     'bu', 'sc', 'sod', 'pot', 'hemo', 'pcv', 'wc', 'rc', 'htn', 'dm', \n",
    "     'cad','appet', 'pe', 'ane']]\n",
    "y = data[['classification']]"
   ]
  },
  {
   "cell_type": "markdown",
   "id": "legal-germany",
   "metadata": {},
   "source": [
    "# Test and Train Split"
   ]
  },
  {
   "cell_type": "code",
   "execution_count": 22,
   "id": "unexpected-anderson",
   "metadata": {},
   "outputs": [],
   "source": [
    "from sklearn.model_selection import train_test_split\n",
    "X_train,X_test,y_train,y_test = train_test_split(X,y,random_state=100)"
   ]
  },
  {
   "cell_type": "markdown",
   "id": "regulation-princess",
   "metadata": {},
   "source": [
    "# Correlation"
   ]
  },
  {
   "cell_type": "code",
   "execution_count": 23,
   "id": "canadian-nigeria",
   "metadata": {},
   "outputs": [
    {
     "data": {
      "text/html": [
       "<div>\n",
       "<style scoped>\n",
       "    .dataframe tbody tr th:only-of-type {\n",
       "        vertical-align: middle;\n",
       "    }\n",
       "\n",
       "    .dataframe tbody tr th {\n",
       "        vertical-align: top;\n",
       "    }\n",
       "\n",
       "    .dataframe thead th {\n",
       "        text-align: right;\n",
       "    }\n",
       "</style>\n",
       "<table border=\"1\" class=\"dataframe\">\n",
       "  <thead>\n",
       "    <tr style=\"text-align: right;\">\n",
       "      <th></th>\n",
       "      <th>age</th>\n",
       "      <th>bp</th>\n",
       "      <th>sg</th>\n",
       "      <th>al</th>\n",
       "      <th>su</th>\n",
       "      <th>rbc</th>\n",
       "      <th>pc</th>\n",
       "      <th>pcc</th>\n",
       "      <th>ba</th>\n",
       "      <th>bgr</th>\n",
       "      <th>...</th>\n",
       "      <th>sod</th>\n",
       "      <th>pot</th>\n",
       "      <th>hemo</th>\n",
       "      <th>pcv</th>\n",
       "      <th>htn</th>\n",
       "      <th>dm</th>\n",
       "      <th>cad</th>\n",
       "      <th>appet</th>\n",
       "      <th>pe</th>\n",
       "      <th>ane</th>\n",
       "    </tr>\n",
       "  </thead>\n",
       "  <tbody>\n",
       "    <tr>\n",
       "      <th>age</th>\n",
       "      <td>1.000000</td>\n",
       "      <td>0.150718</td>\n",
       "      <td>-0.242159</td>\n",
       "      <td>0.139440</td>\n",
       "      <td>0.196305</td>\n",
       "      <td>-0.046650</td>\n",
       "      <td>NaN</td>\n",
       "      <td>-0.209579</td>\n",
       "      <td>-0.076817</td>\n",
       "      <td>0.248401</td>\n",
       "      <td>...</td>\n",
       "      <td>-0.179449</td>\n",
       "      <td>0.052512</td>\n",
       "      <td>-0.216616</td>\n",
       "      <td>-0.235645</td>\n",
       "      <td>0.404830</td>\n",
       "      <td>0.399225</td>\n",
       "      <td>0.198537</td>\n",
       "      <td>0.212789</td>\n",
       "      <td>-0.099548</td>\n",
       "      <td>-0.123336</td>\n",
       "    </tr>\n",
       "    <tr>\n",
       "      <th>bp</th>\n",
       "      <td>0.150718</td>\n",
       "      <td>1.000000</td>\n",
       "      <td>-0.181891</td>\n",
       "      <td>0.108635</td>\n",
       "      <td>0.162389</td>\n",
       "      <td>-0.167294</td>\n",
       "      <td>NaN</td>\n",
       "      <td>-0.066311</td>\n",
       "      <td>-0.091123</td>\n",
       "      <td>0.125947</td>\n",
       "      <td>...</td>\n",
       "      <td>-0.033917</td>\n",
       "      <td>0.124847</td>\n",
       "      <td>-0.255961</td>\n",
       "      <td>-0.293845</td>\n",
       "      <td>0.184418</td>\n",
       "      <td>0.241464</td>\n",
       "      <td>0.076919</td>\n",
       "      <td>0.181071</td>\n",
       "      <td>0.033023</td>\n",
       "      <td>-0.193233</td>\n",
       "    </tr>\n",
       "    <tr>\n",
       "      <th>sg</th>\n",
       "      <td>-0.242159</td>\n",
       "      <td>-0.181891</td>\n",
       "      <td>1.000000</td>\n",
       "      <td>-0.452111</td>\n",
       "      <td>-0.279312</td>\n",
       "      <td>0.140395</td>\n",
       "      <td>NaN</td>\n",
       "      <td>0.376897</td>\n",
       "      <td>0.230182</td>\n",
       "      <td>-0.349111</td>\n",
       "      <td>...</td>\n",
       "      <td>0.376534</td>\n",
       "      <td>-0.092378</td>\n",
       "      <td>0.568575</td>\n",
       "      <td>0.569535</td>\n",
       "      <td>-0.405900</td>\n",
       "      <td>-0.430108</td>\n",
       "      <td>-0.194391</td>\n",
       "      <td>-0.271181</td>\n",
       "      <td>0.271341</td>\n",
       "      <td>0.238485</td>\n",
       "    </tr>\n",
       "    <tr>\n",
       "      <th>al</th>\n",
       "      <td>0.139440</td>\n",
       "      <td>0.108635</td>\n",
       "      <td>-0.452111</td>\n",
       "      <td>1.000000</td>\n",
       "      <td>0.301809</td>\n",
       "      <td>-0.326171</td>\n",
       "      <td>NaN</td>\n",
       "      <td>-0.411736</td>\n",
       "      <td>-0.329948</td>\n",
       "      <td>0.375435</td>\n",
       "      <td>...</td>\n",
       "      <td>-0.380467</td>\n",
       "      <td>0.147334</td>\n",
       "      <td>-0.529955</td>\n",
       "      <td>-0.519976</td>\n",
       "      <td>0.529081</td>\n",
       "      <td>0.436911</td>\n",
       "      <td>0.266254</td>\n",
       "      <td>0.300347</td>\n",
       "      <td>-0.477567</td>\n",
       "      <td>-0.339723</td>\n",
       "    </tr>\n",
       "    <tr>\n",
       "      <th>su</th>\n",
       "      <td>0.196305</td>\n",
       "      <td>0.162389</td>\n",
       "      <td>-0.279312</td>\n",
       "      <td>0.301809</td>\n",
       "      <td>1.000000</td>\n",
       "      <td>-0.022902</td>\n",
       "      <td>NaN</td>\n",
       "      <td>-0.152701</td>\n",
       "      <td>-0.044572</td>\n",
       "      <td>0.601104</td>\n",
       "      <td>...</td>\n",
       "      <td>-0.091419</td>\n",
       "      <td>0.256119</td>\n",
       "      <td>-0.194887</td>\n",
       "      <td>-0.208322</td>\n",
       "      <td>0.272794</td>\n",
       "      <td>0.491956</td>\n",
       "      <td>0.228882</td>\n",
       "      <td>0.032150</td>\n",
       "      <td>-0.084790</td>\n",
       "      <td>-0.148517</td>\n",
       "    </tr>\n",
       "    <tr>\n",
       "      <th>rbc</th>\n",
       "      <td>-0.046650</td>\n",
       "      <td>-0.167294</td>\n",
       "      <td>0.140395</td>\n",
       "      <td>-0.326171</td>\n",
       "      <td>-0.022902</td>\n",
       "      <td>1.000000</td>\n",
       "      <td>NaN</td>\n",
       "      <td>0.012487</td>\n",
       "      <td>0.023397</td>\n",
       "      <td>-0.146108</td>\n",
       "      <td>...</td>\n",
       "      <td>0.171076</td>\n",
       "      <td>0.023658</td>\n",
       "      <td>0.132006</td>\n",
       "      <td>0.135804</td>\n",
       "      <td>-0.073439</td>\n",
       "      <td>-0.113297</td>\n",
       "      <td>-0.046376</td>\n",
       "      <td>-0.147487</td>\n",
       "      <td>0.091866</td>\n",
       "      <td>0.089019</td>\n",
       "    </tr>\n",
       "    <tr>\n",
       "      <th>pc</th>\n",
       "      <td>NaN</td>\n",
       "      <td>NaN</td>\n",
       "      <td>NaN</td>\n",
       "      <td>NaN</td>\n",
       "      <td>NaN</td>\n",
       "      <td>NaN</td>\n",
       "      <td>NaN</td>\n",
       "      <td>NaN</td>\n",
       "      <td>NaN</td>\n",
       "      <td>NaN</td>\n",
       "      <td>...</td>\n",
       "      <td>NaN</td>\n",
       "      <td>NaN</td>\n",
       "      <td>NaN</td>\n",
       "      <td>NaN</td>\n",
       "      <td>NaN</td>\n",
       "      <td>NaN</td>\n",
       "      <td>NaN</td>\n",
       "      <td>NaN</td>\n",
       "      <td>NaN</td>\n",
       "      <td>NaN</td>\n",
       "    </tr>\n",
       "    <tr>\n",
       "      <th>pcc</th>\n",
       "      <td>-0.209579</td>\n",
       "      <td>-0.066311</td>\n",
       "      <td>0.376897</td>\n",
       "      <td>-0.411736</td>\n",
       "      <td>-0.152701</td>\n",
       "      <td>0.012487</td>\n",
       "      <td>NaN</td>\n",
       "      <td>1.000000</td>\n",
       "      <td>0.388253</td>\n",
       "      <td>-0.321076</td>\n",
       "      <td>...</td>\n",
       "      <td>0.160629</td>\n",
       "      <td>0.010492</td>\n",
       "      <td>0.330066</td>\n",
       "      <td>0.334685</td>\n",
       "      <td>-0.268456</td>\n",
       "      <td>-0.272720</td>\n",
       "      <td>-0.136197</td>\n",
       "      <td>-0.320579</td>\n",
       "      <td>0.249935</td>\n",
       "      <td>0.277501</td>\n",
       "    </tr>\n",
       "    <tr>\n",
       "      <th>ba</th>\n",
       "      <td>-0.076817</td>\n",
       "      <td>-0.091123</td>\n",
       "      <td>0.230182</td>\n",
       "      <td>-0.329948</td>\n",
       "      <td>-0.044572</td>\n",
       "      <td>0.023397</td>\n",
       "      <td>NaN</td>\n",
       "      <td>0.388253</td>\n",
       "      <td>1.000000</td>\n",
       "      <td>-0.061581</td>\n",
       "      <td>...</td>\n",
       "      <td>0.201808</td>\n",
       "      <td>0.008982</td>\n",
       "      <td>0.231767</td>\n",
       "      <td>0.253091</td>\n",
       "      <td>-0.188431</td>\n",
       "      <td>-0.141767</td>\n",
       "      <td>-0.293717</td>\n",
       "      <td>-0.179919</td>\n",
       "      <td>0.272418</td>\n",
       "      <td>0.193662</td>\n",
       "    </tr>\n",
       "    <tr>\n",
       "      <th>bgr</th>\n",
       "      <td>0.248401</td>\n",
       "      <td>0.125947</td>\n",
       "      <td>-0.349111</td>\n",
       "      <td>0.375435</td>\n",
       "      <td>0.601104</td>\n",
       "      <td>-0.146108</td>\n",
       "      <td>NaN</td>\n",
       "      <td>-0.321076</td>\n",
       "      <td>-0.061581</td>\n",
       "      <td>1.000000</td>\n",
       "      <td>...</td>\n",
       "      <td>-0.264453</td>\n",
       "      <td>0.078295</td>\n",
       "      <td>-0.302922</td>\n",
       "      <td>-0.299331</td>\n",
       "      <td>0.373996</td>\n",
       "      <td>0.544911</td>\n",
       "      <td>0.122740</td>\n",
       "      <td>0.189760</td>\n",
       "      <td>-0.041580</td>\n",
       "      <td>-0.228777</td>\n",
       "    </tr>\n",
       "    <tr>\n",
       "      <th>bu</th>\n",
       "      <td>0.202281</td>\n",
       "      <td>0.207661</td>\n",
       "      <td>-0.302734</td>\n",
       "      <td>0.386408</td>\n",
       "      <td>0.156649</td>\n",
       "      <td>-0.181861</td>\n",
       "      <td>NaN</td>\n",
       "      <td>-0.266621</td>\n",
       "      <td>-0.281128</td>\n",
       "      <td>0.117449</td>\n",
       "      <td>...</td>\n",
       "      <td>-0.212860</td>\n",
       "      <td>0.406885</td>\n",
       "      <td>-0.491886</td>\n",
       "      <td>-0.449966</td>\n",
       "      <td>0.310095</td>\n",
       "      <td>0.273583</td>\n",
       "      <td>0.193505</td>\n",
       "      <td>0.226166</td>\n",
       "      <td>-0.390740</td>\n",
       "      <td>-0.467525</td>\n",
       "    </tr>\n",
       "    <tr>\n",
       "      <th>sc</th>\n",
       "      <td>0.180647</td>\n",
       "      <td>0.217138</td>\n",
       "      <td>-0.359475</td>\n",
       "      <td>0.274459</td>\n",
       "      <td>0.228474</td>\n",
       "      <td>-0.140557</td>\n",
       "      <td>NaN</td>\n",
       "      <td>-0.120913</td>\n",
       "      <td>-0.150412</td>\n",
       "      <td>0.121079</td>\n",
       "      <td>...</td>\n",
       "      <td>-0.268366</td>\n",
       "      <td>0.385517</td>\n",
       "      <td>-0.419863</td>\n",
       "      <td>-0.383114</td>\n",
       "      <td>0.224663</td>\n",
       "      <td>0.254741</td>\n",
       "      <td>0.121046</td>\n",
       "      <td>0.114343</td>\n",
       "      <td>-0.300465</td>\n",
       "      <td>-0.347096</td>\n",
       "    </tr>\n",
       "    <tr>\n",
       "      <th>sod</th>\n",
       "      <td>-0.179449</td>\n",
       "      <td>-0.033917</td>\n",
       "      <td>0.376534</td>\n",
       "      <td>-0.380467</td>\n",
       "      <td>-0.091419</td>\n",
       "      <td>0.171076</td>\n",
       "      <td>NaN</td>\n",
       "      <td>0.160629</td>\n",
       "      <td>0.201808</td>\n",
       "      <td>-0.264453</td>\n",
       "      <td>...</td>\n",
       "      <td>1.000000</td>\n",
       "      <td>0.146524</td>\n",
       "      <td>0.438759</td>\n",
       "      <td>0.430944</td>\n",
       "      <td>-0.373425</td>\n",
       "      <td>-0.311231</td>\n",
       "      <td>-0.160344</td>\n",
       "      <td>-0.226237</td>\n",
       "      <td>0.206902</td>\n",
       "      <td>0.249727</td>\n",
       "    </tr>\n",
       "    <tr>\n",
       "      <th>pot</th>\n",
       "      <td>0.052512</td>\n",
       "      <td>0.124847</td>\n",
       "      <td>-0.092378</td>\n",
       "      <td>0.147334</td>\n",
       "      <td>0.256119</td>\n",
       "      <td>0.023658</td>\n",
       "      <td>NaN</td>\n",
       "      <td>0.010492</td>\n",
       "      <td>0.008982</td>\n",
       "      <td>0.078295</td>\n",
       "      <td>...</td>\n",
       "      <td>0.146524</td>\n",
       "      <td>1.000000</td>\n",
       "      <td>-0.123276</td>\n",
       "      <td>-0.149409</td>\n",
       "      <td>0.059524</td>\n",
       "      <td>0.068774</td>\n",
       "      <td>0.006360</td>\n",
       "      <td>-0.032087</td>\n",
       "      <td>-0.073318</td>\n",
       "      <td>-0.137991</td>\n",
       "    </tr>\n",
       "    <tr>\n",
       "      <th>hemo</th>\n",
       "      <td>-0.216616</td>\n",
       "      <td>-0.255961</td>\n",
       "      <td>0.568575</td>\n",
       "      <td>-0.529955</td>\n",
       "      <td>-0.194887</td>\n",
       "      <td>0.132006</td>\n",
       "      <td>NaN</td>\n",
       "      <td>0.330066</td>\n",
       "      <td>0.231767</td>\n",
       "      <td>-0.302922</td>\n",
       "      <td>...</td>\n",
       "      <td>0.438759</td>\n",
       "      <td>-0.123276</td>\n",
       "      <td>1.000000</td>\n",
       "      <td>0.860248</td>\n",
       "      <td>-0.595684</td>\n",
       "      <td>-0.487094</td>\n",
       "      <td>-0.324659</td>\n",
       "      <td>-0.431968</td>\n",
       "      <td>0.417139</td>\n",
       "      <td>0.570980</td>\n",
       "    </tr>\n",
       "    <tr>\n",
       "      <th>pcv</th>\n",
       "      <td>-0.235645</td>\n",
       "      <td>-0.293845</td>\n",
       "      <td>0.569535</td>\n",
       "      <td>-0.519976</td>\n",
       "      <td>-0.208322</td>\n",
       "      <td>0.135804</td>\n",
       "      <td>NaN</td>\n",
       "      <td>0.334685</td>\n",
       "      <td>0.253091</td>\n",
       "      <td>-0.299331</td>\n",
       "      <td>...</td>\n",
       "      <td>0.430944</td>\n",
       "      <td>-0.149409</td>\n",
       "      <td>0.860248</td>\n",
       "      <td>1.000000</td>\n",
       "      <td>-0.578774</td>\n",
       "      <td>-0.478558</td>\n",
       "      <td>-0.344415</td>\n",
       "      <td>-0.426654</td>\n",
       "      <td>0.423279</td>\n",
       "      <td>0.516672</td>\n",
       "    </tr>\n",
       "    <tr>\n",
       "      <th>htn</th>\n",
       "      <td>0.404830</td>\n",
       "      <td>0.184418</td>\n",
       "      <td>-0.405900</td>\n",
       "      <td>0.529081</td>\n",
       "      <td>0.272794</td>\n",
       "      <td>-0.073439</td>\n",
       "      <td>NaN</td>\n",
       "      <td>-0.268456</td>\n",
       "      <td>-0.188431</td>\n",
       "      <td>0.373996</td>\n",
       "      <td>...</td>\n",
       "      <td>-0.373425</td>\n",
       "      <td>0.059524</td>\n",
       "      <td>-0.595684</td>\n",
       "      <td>-0.578774</td>\n",
       "      <td>1.000000</td>\n",
       "      <td>0.570947</td>\n",
       "      <td>0.276607</td>\n",
       "      <td>0.355041</td>\n",
       "      <td>-0.339140</td>\n",
       "      <td>-0.385118</td>\n",
       "    </tr>\n",
       "    <tr>\n",
       "      <th>dm</th>\n",
       "      <td>0.399225</td>\n",
       "      <td>0.241464</td>\n",
       "      <td>-0.430108</td>\n",
       "      <td>0.436911</td>\n",
       "      <td>0.491956</td>\n",
       "      <td>-0.113297</td>\n",
       "      <td>NaN</td>\n",
       "      <td>-0.272720</td>\n",
       "      <td>-0.141767</td>\n",
       "      <td>0.544911</td>\n",
       "      <td>...</td>\n",
       "      <td>-0.311231</td>\n",
       "      <td>0.068774</td>\n",
       "      <td>-0.487094</td>\n",
       "      <td>-0.478558</td>\n",
       "      <td>0.570947</td>\n",
       "      <td>1.000000</td>\n",
       "      <td>0.242658</td>\n",
       "      <td>0.336735</td>\n",
       "      <td>-0.292338</td>\n",
       "      <td>-0.243172</td>\n",
       "    </tr>\n",
       "    <tr>\n",
       "      <th>cad</th>\n",
       "      <td>0.198537</td>\n",
       "      <td>0.076919</td>\n",
       "      <td>-0.194391</td>\n",
       "      <td>0.266254</td>\n",
       "      <td>0.228882</td>\n",
       "      <td>-0.046376</td>\n",
       "      <td>NaN</td>\n",
       "      <td>-0.136197</td>\n",
       "      <td>-0.293717</td>\n",
       "      <td>0.122740</td>\n",
       "      <td>...</td>\n",
       "      <td>-0.160344</td>\n",
       "      <td>0.006360</td>\n",
       "      <td>-0.324659</td>\n",
       "      <td>-0.344415</td>\n",
       "      <td>0.276607</td>\n",
       "      <td>0.242658</td>\n",
       "      <td>1.000000</td>\n",
       "      <td>0.160875</td>\n",
       "      <td>-0.244087</td>\n",
       "      <td>-0.098562</td>\n",
       "    </tr>\n",
       "    <tr>\n",
       "      <th>appet</th>\n",
       "      <td>0.212789</td>\n",
       "      <td>0.181071</td>\n",
       "      <td>-0.271181</td>\n",
       "      <td>0.300347</td>\n",
       "      <td>0.032150</td>\n",
       "      <td>-0.147487</td>\n",
       "      <td>NaN</td>\n",
       "      <td>-0.320579</td>\n",
       "      <td>-0.179919</td>\n",
       "      <td>0.189760</td>\n",
       "      <td>...</td>\n",
       "      <td>-0.226237</td>\n",
       "      <td>-0.032087</td>\n",
       "      <td>-0.431968</td>\n",
       "      <td>-0.426654</td>\n",
       "      <td>0.355041</td>\n",
       "      <td>0.336735</td>\n",
       "      <td>0.160875</td>\n",
       "      <td>1.000000</td>\n",
       "      <td>-0.376155</td>\n",
       "      <td>-0.279958</td>\n",
       "    </tr>\n",
       "    <tr>\n",
       "      <th>pe</th>\n",
       "      <td>-0.099548</td>\n",
       "      <td>0.033023</td>\n",
       "      <td>0.271341</td>\n",
       "      <td>-0.477567</td>\n",
       "      <td>-0.084790</td>\n",
       "      <td>0.091866</td>\n",
       "      <td>NaN</td>\n",
       "      <td>0.249935</td>\n",
       "      <td>0.272418</td>\n",
       "      <td>-0.041580</td>\n",
       "      <td>...</td>\n",
       "      <td>0.206902</td>\n",
       "      <td>-0.073318</td>\n",
       "      <td>0.417139</td>\n",
       "      <td>0.423279</td>\n",
       "      <td>-0.339140</td>\n",
       "      <td>-0.292338</td>\n",
       "      <td>-0.244087</td>\n",
       "      <td>-0.376155</td>\n",
       "      <td>1.000000</td>\n",
       "      <td>0.259834</td>\n",
       "    </tr>\n",
       "    <tr>\n",
       "      <th>ane</th>\n",
       "      <td>-0.123336</td>\n",
       "      <td>-0.193233</td>\n",
       "      <td>0.238485</td>\n",
       "      <td>-0.339723</td>\n",
       "      <td>-0.148517</td>\n",
       "      <td>0.089019</td>\n",
       "      <td>NaN</td>\n",
       "      <td>0.277501</td>\n",
       "      <td>0.193662</td>\n",
       "      <td>-0.228777</td>\n",
       "      <td>...</td>\n",
       "      <td>0.249727</td>\n",
       "      <td>-0.137991</td>\n",
       "      <td>0.570980</td>\n",
       "      <td>0.516672</td>\n",
       "      <td>-0.385118</td>\n",
       "      <td>-0.243172</td>\n",
       "      <td>-0.098562</td>\n",
       "      <td>-0.279958</td>\n",
       "      <td>0.259834</td>\n",
       "      <td>1.000000</td>\n",
       "    </tr>\n",
       "  </tbody>\n",
       "</table>\n",
       "<p>22 rows × 22 columns</p>\n",
       "</div>"
      ],
      "text/plain": [
       "            age        bp        sg        al        su       rbc  pc  \\\n",
       "age    1.000000  0.150718 -0.242159  0.139440  0.196305 -0.046650 NaN   \n",
       "bp     0.150718  1.000000 -0.181891  0.108635  0.162389 -0.167294 NaN   \n",
       "sg    -0.242159 -0.181891  1.000000 -0.452111 -0.279312  0.140395 NaN   \n",
       "al     0.139440  0.108635 -0.452111  1.000000  0.301809 -0.326171 NaN   \n",
       "su     0.196305  0.162389 -0.279312  0.301809  1.000000 -0.022902 NaN   \n",
       "rbc   -0.046650 -0.167294  0.140395 -0.326171 -0.022902  1.000000 NaN   \n",
       "pc          NaN       NaN       NaN       NaN       NaN       NaN NaN   \n",
       "pcc   -0.209579 -0.066311  0.376897 -0.411736 -0.152701  0.012487 NaN   \n",
       "ba    -0.076817 -0.091123  0.230182 -0.329948 -0.044572  0.023397 NaN   \n",
       "bgr    0.248401  0.125947 -0.349111  0.375435  0.601104 -0.146108 NaN   \n",
       "bu     0.202281  0.207661 -0.302734  0.386408  0.156649 -0.181861 NaN   \n",
       "sc     0.180647  0.217138 -0.359475  0.274459  0.228474 -0.140557 NaN   \n",
       "sod   -0.179449 -0.033917  0.376534 -0.380467 -0.091419  0.171076 NaN   \n",
       "pot    0.052512  0.124847 -0.092378  0.147334  0.256119  0.023658 NaN   \n",
       "hemo  -0.216616 -0.255961  0.568575 -0.529955 -0.194887  0.132006 NaN   \n",
       "pcv   -0.235645 -0.293845  0.569535 -0.519976 -0.208322  0.135804 NaN   \n",
       "htn    0.404830  0.184418 -0.405900  0.529081  0.272794 -0.073439 NaN   \n",
       "dm     0.399225  0.241464 -0.430108  0.436911  0.491956 -0.113297 NaN   \n",
       "cad    0.198537  0.076919 -0.194391  0.266254  0.228882 -0.046376 NaN   \n",
       "appet  0.212789  0.181071 -0.271181  0.300347  0.032150 -0.147487 NaN   \n",
       "pe    -0.099548  0.033023  0.271341 -0.477567 -0.084790  0.091866 NaN   \n",
       "ane   -0.123336 -0.193233  0.238485 -0.339723 -0.148517  0.089019 NaN   \n",
       "\n",
       "            pcc        ba       bgr  ...       sod       pot      hemo  \\\n",
       "age   -0.209579 -0.076817  0.248401  ... -0.179449  0.052512 -0.216616   \n",
       "bp    -0.066311 -0.091123  0.125947  ... -0.033917  0.124847 -0.255961   \n",
       "sg     0.376897  0.230182 -0.349111  ...  0.376534 -0.092378  0.568575   \n",
       "al    -0.411736 -0.329948  0.375435  ... -0.380467  0.147334 -0.529955   \n",
       "su    -0.152701 -0.044572  0.601104  ... -0.091419  0.256119 -0.194887   \n",
       "rbc    0.012487  0.023397 -0.146108  ...  0.171076  0.023658  0.132006   \n",
       "pc          NaN       NaN       NaN  ...       NaN       NaN       NaN   \n",
       "pcc    1.000000  0.388253 -0.321076  ...  0.160629  0.010492  0.330066   \n",
       "ba     0.388253  1.000000 -0.061581  ...  0.201808  0.008982  0.231767   \n",
       "bgr   -0.321076 -0.061581  1.000000  ... -0.264453  0.078295 -0.302922   \n",
       "bu    -0.266621 -0.281128  0.117449  ... -0.212860  0.406885 -0.491886   \n",
       "sc    -0.120913 -0.150412  0.121079  ... -0.268366  0.385517 -0.419863   \n",
       "sod    0.160629  0.201808 -0.264453  ...  1.000000  0.146524  0.438759   \n",
       "pot    0.010492  0.008982  0.078295  ...  0.146524  1.000000 -0.123276   \n",
       "hemo   0.330066  0.231767 -0.302922  ...  0.438759 -0.123276  1.000000   \n",
       "pcv    0.334685  0.253091 -0.299331  ...  0.430944 -0.149409  0.860248   \n",
       "htn   -0.268456 -0.188431  0.373996  ... -0.373425  0.059524 -0.595684   \n",
       "dm    -0.272720 -0.141767  0.544911  ... -0.311231  0.068774 -0.487094   \n",
       "cad   -0.136197 -0.293717  0.122740  ... -0.160344  0.006360 -0.324659   \n",
       "appet -0.320579 -0.179919  0.189760  ... -0.226237 -0.032087 -0.431968   \n",
       "pe     0.249935  0.272418 -0.041580  ...  0.206902 -0.073318  0.417139   \n",
       "ane    0.277501  0.193662 -0.228777  ...  0.249727 -0.137991  0.570980   \n",
       "\n",
       "            pcv       htn        dm       cad     appet        pe       ane  \n",
       "age   -0.235645  0.404830  0.399225  0.198537  0.212789 -0.099548 -0.123336  \n",
       "bp    -0.293845  0.184418  0.241464  0.076919  0.181071  0.033023 -0.193233  \n",
       "sg     0.569535 -0.405900 -0.430108 -0.194391 -0.271181  0.271341  0.238485  \n",
       "al    -0.519976  0.529081  0.436911  0.266254  0.300347 -0.477567 -0.339723  \n",
       "su    -0.208322  0.272794  0.491956  0.228882  0.032150 -0.084790 -0.148517  \n",
       "rbc    0.135804 -0.073439 -0.113297 -0.046376 -0.147487  0.091866  0.089019  \n",
       "pc          NaN       NaN       NaN       NaN       NaN       NaN       NaN  \n",
       "pcc    0.334685 -0.268456 -0.272720 -0.136197 -0.320579  0.249935  0.277501  \n",
       "ba     0.253091 -0.188431 -0.141767 -0.293717 -0.179919  0.272418  0.193662  \n",
       "bgr   -0.299331  0.373996  0.544911  0.122740  0.189760 -0.041580 -0.228777  \n",
       "bu    -0.449966  0.310095  0.273583  0.193505  0.226166 -0.390740 -0.467525  \n",
       "sc    -0.383114  0.224663  0.254741  0.121046  0.114343 -0.300465 -0.347096  \n",
       "sod    0.430944 -0.373425 -0.311231 -0.160344 -0.226237  0.206902  0.249727  \n",
       "pot   -0.149409  0.059524  0.068774  0.006360 -0.032087 -0.073318 -0.137991  \n",
       "hemo   0.860248 -0.595684 -0.487094 -0.324659 -0.431968  0.417139  0.570980  \n",
       "pcv    1.000000 -0.578774 -0.478558 -0.344415 -0.426654  0.423279  0.516672  \n",
       "htn   -0.578774  1.000000  0.570947  0.276607  0.355041 -0.339140 -0.385118  \n",
       "dm    -0.478558  0.570947  1.000000  0.242658  0.336735 -0.292338 -0.243172  \n",
       "cad   -0.344415  0.276607  0.242658  1.000000  0.160875 -0.244087 -0.098562  \n",
       "appet -0.426654  0.355041  0.336735  0.160875  1.000000 -0.376155 -0.279958  \n",
       "pe     0.423279 -0.339140 -0.292338 -0.244087 -0.376155  1.000000  0.259834  \n",
       "ane    0.516672 -0.385118 -0.243172 -0.098562 -0.279958  0.259834  1.000000  \n",
       "\n",
       "[22 rows x 22 columns]"
      ]
     },
     "execution_count": 23,
     "metadata": {},
     "output_type": "execute_result"
    }
   ],
   "source": [
    "X_train.corr()"
   ]
  },
  {
   "cell_type": "code",
   "execution_count": 24,
   "id": "progressive-praise",
   "metadata": {},
   "outputs": [],
   "source": [
    "def correlation(dataset, threshold):\n",
    "    col_corr = set()  # Set of all the names of correlated columns\n",
    "    corr_matrix = dataset.corr()\n",
    "    for i in range(len(corr_matrix.columns)):\n",
    "        for j in range(i):\n",
    "            if abs(corr_matrix.iloc[i, j]) > threshold: # we are interested in absolute coeff value\n",
    "                colname = corr_matrix.columns[i]  # getting the name of column\n",
    "                col_corr.add(colname)\n",
    "    return col_corr"
   ]
  },
  {
   "cell_type": "code",
   "execution_count": 25,
   "id": "bulgarian-nursery",
   "metadata": {},
   "outputs": [
    {
     "data": {
      "text/plain": [
       "2"
      ]
     },
     "execution_count": 25,
     "metadata": {},
     "output_type": "execute_result"
    }
   ],
   "source": [
    "corr_features = correlation(X_train, 0.7)\n",
    "len(set(corr_features))"
   ]
  },
  {
   "cell_type": "code",
   "execution_count": 26,
   "id": "homeless-vancouver",
   "metadata": {},
   "outputs": [
    {
     "data": {
      "text/plain": [
       "{'pcv', 'sc'}"
      ]
     },
     "execution_count": 26,
     "metadata": {},
     "output_type": "execute_result"
    }
   ],
   "source": [
    "corr_features"
   ]
  },
  {
   "cell_type": "code",
   "execution_count": 27,
   "id": "closed-ottawa",
   "metadata": {},
   "outputs": [],
   "source": [
    "corr_features.add('wc')\n",
    "corr_features.add('rc')\n",
    "corr_features.add('pc')"
   ]
  },
  {
   "cell_type": "code",
   "execution_count": 28,
   "id": "severe-procurement",
   "metadata": {},
   "outputs": [
    {
     "data": {
      "text/plain": [
       "{'pc', 'pcv', 'rc', 'sc', 'wc'}"
      ]
     },
     "execution_count": 28,
     "metadata": {},
     "output_type": "execute_result"
    }
   ],
   "source": [
    "corr_features"
   ]
  },
  {
   "cell_type": "code",
   "execution_count": 29,
   "id": "major-malta",
   "metadata": {},
   "outputs": [],
   "source": [
    "X_train = X_train.drop(corr_features,axis=1)\n",
    "X_test = X_test.drop(corr_features,axis=1)"
   ]
  },
  {
   "cell_type": "code",
   "execution_count": 30,
   "id": "aggressive-conclusion",
   "metadata": {},
   "outputs": [
    {
     "data": {
      "text/html": [
       "<div>\n",
       "<style scoped>\n",
       "    .dataframe tbody tr th:only-of-type {\n",
       "        vertical-align: middle;\n",
       "    }\n",
       "\n",
       "    .dataframe tbody tr th {\n",
       "        vertical-align: top;\n",
       "    }\n",
       "\n",
       "    .dataframe thead th {\n",
       "        text-align: right;\n",
       "    }\n",
       "</style>\n",
       "<table border=\"1\" class=\"dataframe\">\n",
       "  <thead>\n",
       "    <tr style=\"text-align: right;\">\n",
       "      <th></th>\n",
       "      <th>age</th>\n",
       "      <th>bp</th>\n",
       "      <th>sg</th>\n",
       "      <th>al</th>\n",
       "      <th>su</th>\n",
       "      <th>rbc</th>\n",
       "      <th>pcc</th>\n",
       "      <th>ba</th>\n",
       "      <th>bgr</th>\n",
       "      <th>bu</th>\n",
       "      <th>sod</th>\n",
       "      <th>pot</th>\n",
       "      <th>hemo</th>\n",
       "      <th>htn</th>\n",
       "      <th>dm</th>\n",
       "      <th>cad</th>\n",
       "      <th>appet</th>\n",
       "      <th>pe</th>\n",
       "      <th>ane</th>\n",
       "    </tr>\n",
       "  </thead>\n",
       "  <tbody>\n",
       "    <tr>\n",
       "      <th>258</th>\n",
       "      <td>50.0</td>\n",
       "      <td>76.051661</td>\n",
       "      <td>1.020000</td>\n",
       "      <td>0.00000</td>\n",
       "      <td>0.000000</td>\n",
       "      <td>1</td>\n",
       "      <td>1</td>\n",
       "      <td>1</td>\n",
       "      <td>92.000000</td>\n",
       "      <td>19.000000</td>\n",
       "      <td>150.000000</td>\n",
       "      <td>4.800000</td>\n",
       "      <td>14.900000</td>\n",
       "      <td>0</td>\n",
       "      <td>0.0</td>\n",
       "      <td>0.0</td>\n",
       "      <td>0</td>\n",
       "      <td>1</td>\n",
       "      <td>1</td>\n",
       "    </tr>\n",
       "    <tr>\n",
       "      <th>177</th>\n",
       "      <td>80.0</td>\n",
       "      <td>70.000000</td>\n",
       "      <td>1.020000</td>\n",
       "      <td>0.00000</td>\n",
       "      <td>0.000000</td>\n",
       "      <td>1</td>\n",
       "      <td>1</td>\n",
       "      <td>1</td>\n",
       "      <td>150.186235</td>\n",
       "      <td>56.983835</td>\n",
       "      <td>135.000000</td>\n",
       "      <td>4.100000</td>\n",
       "      <td>15.300000</td>\n",
       "      <td>0</td>\n",
       "      <td>0.0</td>\n",
       "      <td>0.0</td>\n",
       "      <td>0</td>\n",
       "      <td>1</td>\n",
       "      <td>1</td>\n",
       "    </tr>\n",
       "    <tr>\n",
       "      <th>218</th>\n",
       "      <td>60.0</td>\n",
       "      <td>70.000000</td>\n",
       "      <td>1.010000</td>\n",
       "      <td>2.00000</td>\n",
       "      <td>0.000000</td>\n",
       "      <td>1</td>\n",
       "      <td>0</td>\n",
       "      <td>1</td>\n",
       "      <td>144.000000</td>\n",
       "      <td>72.000000</td>\n",
       "      <td>137.255869</td>\n",
       "      <td>4.754245</td>\n",
       "      <td>9.700000</td>\n",
       "      <td>1</td>\n",
       "      <td>1.0</td>\n",
       "      <td>0.0</td>\n",
       "      <td>1</td>\n",
       "      <td>1</td>\n",
       "      <td>0</td>\n",
       "    </tr>\n",
       "    <tr>\n",
       "      <th>242</th>\n",
       "      <td>53.0</td>\n",
       "      <td>60.000000</td>\n",
       "      <td>1.017439</td>\n",
       "      <td>1.02449</td>\n",
       "      <td>0.438017</td>\n",
       "      <td>1</td>\n",
       "      <td>1</td>\n",
       "      <td>1</td>\n",
       "      <td>91.000000</td>\n",
       "      <td>114.000000</td>\n",
       "      <td>142.000000</td>\n",
       "      <td>4.300000</td>\n",
       "      <td>8.600000</td>\n",
       "      <td>1</td>\n",
       "      <td>1.0</td>\n",
       "      <td>0.0</td>\n",
       "      <td>1</td>\n",
       "      <td>0</td>\n",
       "      <td>0</td>\n",
       "    </tr>\n",
       "    <tr>\n",
       "      <th>169</th>\n",
       "      <td>2.0</td>\n",
       "      <td>76.051661</td>\n",
       "      <td>1.010000</td>\n",
       "      <td>3.00000</td>\n",
       "      <td>0.000000</td>\n",
       "      <td>1</td>\n",
       "      <td>1</td>\n",
       "      <td>1</td>\n",
       "      <td>150.186235</td>\n",
       "      <td>56.983835</td>\n",
       "      <td>137.255869</td>\n",
       "      <td>4.754245</td>\n",
       "      <td>12.531535</td>\n",
       "      <td>0</td>\n",
       "      <td>0.0</td>\n",
       "      <td>0.0</td>\n",
       "      <td>0</td>\n",
       "      <td>0</td>\n",
       "      <td>1</td>\n",
       "    </tr>\n",
       "    <tr>\n",
       "      <th>...</th>\n",
       "      <td>...</td>\n",
       "      <td>...</td>\n",
       "      <td>...</td>\n",
       "      <td>...</td>\n",
       "      <td>...</td>\n",
       "      <td>...</td>\n",
       "      <td>...</td>\n",
       "      <td>...</td>\n",
       "      <td>...</td>\n",
       "      <td>...</td>\n",
       "      <td>...</td>\n",
       "      <td>...</td>\n",
       "      <td>...</td>\n",
       "      <td>...</td>\n",
       "      <td>...</td>\n",
       "      <td>...</td>\n",
       "      <td>...</td>\n",
       "      <td>...</td>\n",
       "      <td>...</td>\n",
       "    </tr>\n",
       "    <tr>\n",
       "      <th>226</th>\n",
       "      <td>22.0</td>\n",
       "      <td>60.000000</td>\n",
       "      <td>1.025000</td>\n",
       "      <td>0.00000</td>\n",
       "      <td>0.000000</td>\n",
       "      <td>1</td>\n",
       "      <td>1</td>\n",
       "      <td>1</td>\n",
       "      <td>97.000000</td>\n",
       "      <td>18.000000</td>\n",
       "      <td>138.000000</td>\n",
       "      <td>4.300000</td>\n",
       "      <td>13.500000</td>\n",
       "      <td>0</td>\n",
       "      <td>0.0</td>\n",
       "      <td>0.0</td>\n",
       "      <td>0</td>\n",
       "      <td>1</td>\n",
       "      <td>1</td>\n",
       "    </tr>\n",
       "    <tr>\n",
       "      <th>66</th>\n",
       "      <td>40.0</td>\n",
       "      <td>80.000000</td>\n",
       "      <td>1.020000</td>\n",
       "      <td>0.00000</td>\n",
       "      <td>0.000000</td>\n",
       "      <td>1</td>\n",
       "      <td>1</td>\n",
       "      <td>1</td>\n",
       "      <td>119.000000</td>\n",
       "      <td>15.000000</td>\n",
       "      <td>150.000000</td>\n",
       "      <td>4.900000</td>\n",
       "      <td>12.531535</td>\n",
       "      <td>0</td>\n",
       "      <td>0.0</td>\n",
       "      <td>0.0</td>\n",
       "      <td>0</td>\n",
       "      <td>1</td>\n",
       "      <td>1</td>\n",
       "    </tr>\n",
       "    <tr>\n",
       "      <th>53</th>\n",
       "      <td>60.0</td>\n",
       "      <td>80.000000</td>\n",
       "      <td>1.010000</td>\n",
       "      <td>1.00000</td>\n",
       "      <td>1.000000</td>\n",
       "      <td>1</td>\n",
       "      <td>1</td>\n",
       "      <td>1</td>\n",
       "      <td>172.000000</td>\n",
       "      <td>32.000000</td>\n",
       "      <td>137.255869</td>\n",
       "      <td>4.754245</td>\n",
       "      <td>11.200000</td>\n",
       "      <td>0</td>\n",
       "      <td>1.0</td>\n",
       "      <td>1.0</td>\n",
       "      <td>1</td>\n",
       "      <td>1</td>\n",
       "      <td>1</td>\n",
       "    </tr>\n",
       "    <tr>\n",
       "      <th>79</th>\n",
       "      <td>29.0</td>\n",
       "      <td>70.000000</td>\n",
       "      <td>1.020000</td>\n",
       "      <td>0.00000</td>\n",
       "      <td>0.000000</td>\n",
       "      <td>1</td>\n",
       "      <td>1</td>\n",
       "      <td>1</td>\n",
       "      <td>127.000000</td>\n",
       "      <td>44.000000</td>\n",
       "      <td>145.000000</td>\n",
       "      <td>5.000000</td>\n",
       "      <td>14.800000</td>\n",
       "      <td>0</td>\n",
       "      <td>0.0</td>\n",
       "      <td>0.0</td>\n",
       "      <td>0</td>\n",
       "      <td>1</td>\n",
       "      <td>1</td>\n",
       "    </tr>\n",
       "    <tr>\n",
       "      <th>8</th>\n",
       "      <td>34.0</td>\n",
       "      <td>70.000000</td>\n",
       "      <td>1.020000</td>\n",
       "      <td>0.00000</td>\n",
       "      <td>0.000000</td>\n",
       "      <td>0</td>\n",
       "      <td>1</td>\n",
       "      <td>1</td>\n",
       "      <td>139.000000</td>\n",
       "      <td>19.000000</td>\n",
       "      <td>137.255869</td>\n",
       "      <td>4.754245</td>\n",
       "      <td>12.700000</td>\n",
       "      <td>0</td>\n",
       "      <td>0.0</td>\n",
       "      <td>0.0</td>\n",
       "      <td>1</td>\n",
       "      <td>1</td>\n",
       "      <td>1</td>\n",
       "    </tr>\n",
       "  </tbody>\n",
       "</table>\n",
       "<p>210 rows × 19 columns</p>\n",
       "</div>"
      ],
      "text/plain": [
       "      age         bp        sg       al        su  rbc  pcc  ba         bgr  \\\n",
       "258  50.0  76.051661  1.020000  0.00000  0.000000    1    1   1   92.000000   \n",
       "177  80.0  70.000000  1.020000  0.00000  0.000000    1    1   1  150.186235   \n",
       "218  60.0  70.000000  1.010000  2.00000  0.000000    1    0   1  144.000000   \n",
       "242  53.0  60.000000  1.017439  1.02449  0.438017    1    1   1   91.000000   \n",
       "169   2.0  76.051661  1.010000  3.00000  0.000000    1    1   1  150.186235   \n",
       "..    ...        ...       ...      ...       ...  ...  ...  ..         ...   \n",
       "226  22.0  60.000000  1.025000  0.00000  0.000000    1    1   1   97.000000   \n",
       "66   40.0  80.000000  1.020000  0.00000  0.000000    1    1   1  119.000000   \n",
       "53   60.0  80.000000  1.010000  1.00000  1.000000    1    1   1  172.000000   \n",
       "79   29.0  70.000000  1.020000  0.00000  0.000000    1    1   1  127.000000   \n",
       "8    34.0  70.000000  1.020000  0.00000  0.000000    0    1   1  139.000000   \n",
       "\n",
       "             bu         sod       pot       hemo  htn   dm  cad  appet  pe  \\\n",
       "258   19.000000  150.000000  4.800000  14.900000    0  0.0  0.0      0   1   \n",
       "177   56.983835  135.000000  4.100000  15.300000    0  0.0  0.0      0   1   \n",
       "218   72.000000  137.255869  4.754245   9.700000    1  1.0  0.0      1   1   \n",
       "242  114.000000  142.000000  4.300000   8.600000    1  1.0  0.0      1   0   \n",
       "169   56.983835  137.255869  4.754245  12.531535    0  0.0  0.0      0   0   \n",
       "..          ...         ...       ...        ...  ...  ...  ...    ...  ..   \n",
       "226   18.000000  138.000000  4.300000  13.500000    0  0.0  0.0      0   1   \n",
       "66    15.000000  150.000000  4.900000  12.531535    0  0.0  0.0      0   1   \n",
       "53    32.000000  137.255869  4.754245  11.200000    0  1.0  1.0      1   1   \n",
       "79    44.000000  145.000000  5.000000  14.800000    0  0.0  0.0      0   1   \n",
       "8     19.000000  137.255869  4.754245  12.700000    0  0.0  0.0      1   1   \n",
       "\n",
       "     ane  \n",
       "258    1  \n",
       "177    1  \n",
       "218    0  \n",
       "242    0  \n",
       "169    1  \n",
       "..   ...  \n",
       "226    1  \n",
       "66     1  \n",
       "53     1  \n",
       "79     1  \n",
       "8      1  \n",
       "\n",
       "[210 rows x 19 columns]"
      ]
     },
     "execution_count": 30,
     "metadata": {},
     "output_type": "execute_result"
    }
   ],
   "source": [
    "X_train"
   ]
  },
  {
   "cell_type": "code",
   "execution_count": 31,
   "id": "variable-holly",
   "metadata": {},
   "outputs": [
    {
     "data": {
      "text/plain": [
       "age      float64\n",
       "bp       float64\n",
       "sg       float64\n",
       "al       float64\n",
       "su       float64\n",
       "rbc        int64\n",
       "pcc        int64\n",
       "ba         int64\n",
       "bgr      float64\n",
       "bu       float64\n",
       "sod      float64\n",
       "pot      float64\n",
       "hemo     float64\n",
       "htn        int64\n",
       "dm       float64\n",
       "cad      float64\n",
       "appet      int64\n",
       "pe         int64\n",
       "ane        int64\n",
       "dtype: object"
      ]
     },
     "execution_count": 31,
     "metadata": {},
     "output_type": "execute_result"
    }
   ],
   "source": [
    "X_train.dtypes"
   ]
  },
  {
   "cell_type": "markdown",
   "id": "judicial-kentucky",
   "metadata": {},
   "source": [
    "# LogisticRegression"
   ]
  },
  {
   "cell_type": "code",
   "execution_count": 32,
   "id": "floating-medium",
   "metadata": {},
   "outputs": [
    {
     "name": "stderr",
     "output_type": "stream",
     "text": [
      "c:\\users\\chakradharnaidu.s\\appdata\\local\\programs\\python\\python39\\lib\\site-packages\\sklearn\\utils\\validation.py:63: DataConversionWarning: A column-vector y was passed when a 1d array was expected. Please change the shape of y to (n_samples, ), for example using ravel().\n",
      "  return f(*args, **kwargs)\n",
      "c:\\users\\chakradharnaidu.s\\appdata\\local\\programs\\python\\python39\\lib\\site-packages\\sklearn\\linear_model\\_logistic.py:763: ConvergenceWarning: lbfgs failed to converge (status=1):\n",
      "STOP: TOTAL NO. of ITERATIONS REACHED LIMIT.\n",
      "\n",
      "Increase the number of iterations (max_iter) or scale the data as shown in:\n",
      "    https://scikit-learn.org/stable/modules/preprocessing.html\n",
      "Please also refer to the documentation for alternative solver options:\n",
      "    https://scikit-learn.org/stable/modules/linear_model.html#logistic-regression\n",
      "  n_iter_i = _check_optimize_result(\n"
     ]
    },
    {
     "data": {
      "text/plain": [
       "LogisticRegression()"
      ]
     },
     "execution_count": 32,
     "metadata": {},
     "output_type": "execute_result"
    }
   ],
   "source": [
    "from sklearn.linear_model import LogisticRegression\n",
    "LogReg = LogisticRegression()\n",
    "LogReg.fit(X_train, y_train)"
   ]
  },
  {
   "cell_type": "code",
   "execution_count": 33,
   "id": "extra-penny",
   "metadata": {},
   "outputs": [],
   "source": [
    "y_pred = LogReg.predict(X_test)"
   ]
  },
  {
   "cell_type": "code",
   "execution_count": 34,
   "id": "under-violence",
   "metadata": {},
   "outputs": [
    {
     "name": "stdout",
     "output_type": "stream",
     "text": [
      "Accuracy for Logistic Regression: 0.9714285714285714\n"
     ]
    }
   ],
   "source": [
    "print(\"Accuracy for Logistic Regression:\",metrics.accuracy_score(y_test, y_pred))"
   ]
  },
  {
   "cell_type": "code",
   "execution_count": 35,
   "id": "adolescent-modern",
   "metadata": {},
   "outputs": [
    {
     "name": "stdout",
     "output_type": "stream",
     "text": [
      "confusion_matrix for Logistic Regression:\n",
      " [[43  2]\n",
      " [ 0 25]]\n"
     ]
    }
   ],
   "source": [
    "print(\"confusion_matrix for Logistic Regression:\\n\",metrics.confusion_matrix(y_test, y_pred))"
   ]
  },
  {
   "cell_type": "code",
   "execution_count": 36,
   "id": "prescribed-kernel",
   "metadata": {},
   "outputs": [
    {
     "name": "stdout",
     "output_type": "stream",
     "text": [
      "classification_report for Logistic Regression:\n",
      "               precision    recall  f1-score   support\n",
      "\n",
      "           0       1.00      0.96      0.98        45\n",
      "           1       0.93      1.00      0.96        25\n",
      "\n",
      "    accuracy                           0.97        70\n",
      "   macro avg       0.96      0.98      0.97        70\n",
      "weighted avg       0.97      0.97      0.97        70\n",
      "\n"
     ]
    }
   ],
   "source": [
    "print(\"classification_report for Logistic Regression:\\n\",classification_report(y_test, y_pred))"
   ]
  },
  {
   "cell_type": "markdown",
   "id": "theoretical-hardwood",
   "metadata": {},
   "source": [
    "# DecisionTree"
   ]
  },
  {
   "cell_type": "code",
   "execution_count": 37,
   "id": "protected-factory",
   "metadata": {},
   "outputs": [
    {
     "data": {
      "text/plain": [
       "DecisionTreeClassifier()"
      ]
     },
     "execution_count": 37,
     "metadata": {},
     "output_type": "execute_result"
    }
   ],
   "source": [
    "from sklearn.tree import DecisionTreeClassifier\n",
    "classifier = DecisionTreeClassifier()\n",
    "classifier.fit(X_train,y_train)"
   ]
  },
  {
   "cell_type": "code",
   "execution_count": 38,
   "id": "realistic-return",
   "metadata": {},
   "outputs": [],
   "source": [
    "y_pred = classifier.predict(X_test)"
   ]
  },
  {
   "cell_type": "code",
   "execution_count": 39,
   "id": "informed-administration",
   "metadata": {},
   "outputs": [
    {
     "name": "stdout",
     "output_type": "stream",
     "text": [
      "Accuracy for DecisionTreeClassifier: 0.9571428571428572\n"
     ]
    }
   ],
   "source": [
    "print(\"Accuracy for DecisionTreeClassifier:\",metrics.accuracy_score(y_test, y_pred))"
   ]
  },
  {
   "cell_type": "code",
   "execution_count": 40,
   "id": "accomplished-referral",
   "metadata": {},
   "outputs": [
    {
     "name": "stdout",
     "output_type": "stream",
     "text": [
      "confusion_matrix for DecisionTreeClassifier:\n",
      " [[44  1]\n",
      " [ 2 23]]\n"
     ]
    }
   ],
   "source": [
    "print(\"confusion_matrix for DecisionTreeClassifier:\\n\",metrics.confusion_matrix(y_test, y_pred))"
   ]
  },
  {
   "cell_type": "code",
   "execution_count": 41,
   "id": "muslim-conducting",
   "metadata": {},
   "outputs": [
    {
     "name": "stdout",
     "output_type": "stream",
     "text": [
      "classification_report for DecisionTreeClassifier:\n",
      "               precision    recall  f1-score   support\n",
      "\n",
      "           0       0.96      0.98      0.97        45\n",
      "           1       0.96      0.92      0.94        25\n",
      "\n",
      "    accuracy                           0.96        70\n",
      "   macro avg       0.96      0.95      0.95        70\n",
      "weighted avg       0.96      0.96      0.96        70\n",
      "\n"
     ]
    }
   ],
   "source": [
    "print(\"classification_report for DecisionTreeClassifier:\\n\",classification_report(y_test, y_pred))"
   ]
  },
  {
   "cell_type": "markdown",
   "id": "indoor-parliament",
   "metadata": {},
   "source": [
    "# RandomForest"
   ]
  },
  {
   "cell_type": "code",
   "execution_count": 42,
   "id": "smart-sequence",
   "metadata": {},
   "outputs": [
    {
     "name": "stderr",
     "output_type": "stream",
     "text": [
      "<ipython-input-42-8d31d8eb48f5>:3: DataConversionWarning: A column-vector y was passed when a 1d array was expected. Please change the shape of y to (n_samples,), for example using ravel().\n",
      "  RFC.fit(X_train,y_train)\n"
     ]
    },
    {
     "data": {
      "text/plain": [
       "RandomForestClassifier()"
      ]
     },
     "execution_count": 42,
     "metadata": {},
     "output_type": "execute_result"
    }
   ],
   "source": [
    "from sklearn.ensemble import RandomForestClassifier\n",
    "RFC = RandomForestClassifier()\n",
    "RFC.fit(X_train,y_train)"
   ]
  },
  {
   "cell_type": "code",
   "execution_count": 43,
   "id": "initial-maine",
   "metadata": {},
   "outputs": [],
   "source": [
    "y_pred = RFC.predict(X_test)"
   ]
  },
  {
   "cell_type": "code",
   "execution_count": 44,
   "id": "white-salon",
   "metadata": {},
   "outputs": [
    {
     "name": "stdout",
     "output_type": "stream",
     "text": [
      "Accuracy for RandomForest: 0.9714285714285714\n"
     ]
    }
   ],
   "source": [
    "print(\"Accuracy for RandomForest:\",metrics.accuracy_score(y_test, y_pred))"
   ]
  },
  {
   "cell_type": "code",
   "execution_count": 45,
   "id": "authorized-triple",
   "metadata": {},
   "outputs": [
    {
     "name": "stdout",
     "output_type": "stream",
     "text": [
      "confusion_matrix for RandomForest:\n",
      " [[45  0]\n",
      " [ 2 23]]\n"
     ]
    }
   ],
   "source": [
    "print(\"confusion_matrix for RandomForest:\\n\",metrics.confusion_matrix(y_test, y_pred))"
   ]
  },
  {
   "cell_type": "code",
   "execution_count": 46,
   "id": "elegant-incidence",
   "metadata": {},
   "outputs": [
    {
     "name": "stdout",
     "output_type": "stream",
     "text": [
      "classification_report for RandomForest:\n",
      "               precision    recall  f1-score   support\n",
      "\n",
      "           0       0.96      1.00      0.98        45\n",
      "           1       1.00      0.92      0.96        25\n",
      "\n",
      "    accuracy                           0.97        70\n",
      "   macro avg       0.98      0.96      0.97        70\n",
      "weighted avg       0.97      0.97      0.97        70\n",
      "\n"
     ]
    }
   ],
   "source": [
    "print(\"classification_report for RandomForest:\\n\",classification_report(y_test, y_pred))"
   ]
  },
  {
   "cell_type": "markdown",
   "id": "competent-scott",
   "metadata": {},
   "source": [
    "# SVM"
   ]
  },
  {
   "cell_type": "code",
   "execution_count": 47,
   "id": "challenging-vision",
   "metadata": {},
   "outputs": [
    {
     "name": "stderr",
     "output_type": "stream",
     "text": [
      "c:\\users\\chakradharnaidu.s\\appdata\\local\\programs\\python\\python39\\lib\\site-packages\\sklearn\\utils\\validation.py:63: DataConversionWarning: A column-vector y was passed when a 1d array was expected. Please change the shape of y to (n_samples, ), for example using ravel().\n",
      "  return f(*args, **kwargs)\n"
     ]
    },
    {
     "data": {
      "text/plain": [
       "SVC()"
      ]
     },
     "execution_count": 47,
     "metadata": {},
     "output_type": "execute_result"
    }
   ],
   "source": [
    "from sklearn.svm import SVC\n",
    "SVC_model = SVC()\n",
    "SVC_model.fit(X_train,y_train)"
   ]
  },
  {
   "cell_type": "code",
   "execution_count": 48,
   "id": "automotive-blame",
   "metadata": {},
   "outputs": [],
   "source": [
    "y_pred = SVC_model.predict(X_test)"
   ]
  },
  {
   "cell_type": "code",
   "execution_count": 49,
   "id": "tough-timothy",
   "metadata": {},
   "outputs": [
    {
     "name": "stdout",
     "output_type": "stream",
     "text": [
      "Accuracy for SVM: 0.8428571428571429\n"
     ]
    }
   ],
   "source": [
    "print(\"Accuracy for SVM:\",metrics.accuracy_score(y_test, y_pred))"
   ]
  },
  {
   "cell_type": "code",
   "execution_count": 50,
   "id": "composed-seller",
   "metadata": {},
   "outputs": [
    {
     "name": "stdout",
     "output_type": "stream",
     "text": [
      "confusion_matrix for SVM:\n",
      " [[35 10]\n",
      " [ 1 24]]\n"
     ]
    }
   ],
   "source": [
    "print(\"confusion_matrix for SVM:\\n\",metrics.confusion_matrix(y_test, y_pred))"
   ]
  },
  {
   "cell_type": "code",
   "execution_count": 51,
   "id": "macro-measurement",
   "metadata": {},
   "outputs": [
    {
     "name": "stdout",
     "output_type": "stream",
     "text": [
      "classification_report for SVM:\n",
      "               precision    recall  f1-score   support\n",
      "\n",
      "           0       0.97      0.78      0.86        45\n",
      "           1       0.71      0.96      0.81        25\n",
      "\n",
      "    accuracy                           0.84        70\n",
      "   macro avg       0.84      0.87      0.84        70\n",
      "weighted avg       0.88      0.84      0.85        70\n",
      "\n"
     ]
    }
   ],
   "source": [
    "print(\"classification_report for SVM:\\n\",classification_report(y_test, y_pred))"
   ]
  },
  {
   "cell_type": "markdown",
   "id": "civil-principle",
   "metadata": {},
   "source": [
    "# SVM-linear kernel"
   ]
  },
  {
   "cell_type": "code",
   "execution_count": 52,
   "id": "macro-helicopter",
   "metadata": {},
   "outputs": [
    {
     "name": "stderr",
     "output_type": "stream",
     "text": [
      "c:\\users\\chakradharnaidu.s\\appdata\\local\\programs\\python\\python39\\lib\\site-packages\\sklearn\\utils\\validation.py:63: DataConversionWarning: A column-vector y was passed when a 1d array was expected. Please change the shape of y to (n_samples, ), for example using ravel().\n",
      "  return f(*args, **kwargs)\n"
     ]
    },
    {
     "data": {
      "text/plain": [
       "SVC(kernel='linear')"
      ]
     },
     "execution_count": 52,
     "metadata": {},
     "output_type": "execute_result"
    }
   ],
   "source": [
    "SVC_model = SVC(kernel='linear')\n",
    "SVC_model.fit(X_train,y_train)"
   ]
  },
  {
   "cell_type": "code",
   "execution_count": 53,
   "id": "august-partner",
   "metadata": {},
   "outputs": [],
   "source": [
    "y_pred = SVC_model.predict(X_test)"
   ]
  },
  {
   "cell_type": "code",
   "execution_count": 54,
   "id": "french-spelling",
   "metadata": {},
   "outputs": [
    {
     "name": "stdout",
     "output_type": "stream",
     "text": [
      "Accuracy for SVM-linear kernel: 0.9714285714285714\n"
     ]
    }
   ],
   "source": [
    "print(\"Accuracy for SVM-linear kernel:\",metrics.accuracy_score(y_test, y_pred))"
   ]
  },
  {
   "cell_type": "code",
   "execution_count": 55,
   "id": "ongoing-restoration",
   "metadata": {},
   "outputs": [
    {
     "name": "stdout",
     "output_type": "stream",
     "text": [
      "confusion_matrix for SVM-linear kernel:\n",
      " [[43  2]\n",
      " [ 0 25]]\n"
     ]
    }
   ],
   "source": [
    "print(\"confusion_matrix for SVM-linear kernel:\\n\",metrics.confusion_matrix(y_test, y_pred))"
   ]
  },
  {
   "cell_type": "code",
   "execution_count": 56,
   "id": "expensive-return",
   "metadata": {},
   "outputs": [
    {
     "name": "stdout",
     "output_type": "stream",
     "text": [
      "classification_report for SVM-linear kernel:\n",
      "               precision    recall  f1-score   support\n",
      "\n",
      "           0       1.00      0.96      0.98        45\n",
      "           1       0.93      1.00      0.96        25\n",
      "\n",
      "    accuracy                           0.97        70\n",
      "   macro avg       0.96      0.98      0.97        70\n",
      "weighted avg       0.97      0.97      0.97        70\n",
      "\n"
     ]
    }
   ],
   "source": [
    "print(\"classification_report for SVM-linear kernel:\\n\",classification_report(y_test, y_pred))"
   ]
  },
  {
   "cell_type": "markdown",
   "id": "filled-fortune",
   "metadata": {},
   "source": [
    "# SVM-sigmoid kernel"
   ]
  },
  {
   "cell_type": "code",
   "execution_count": 57,
   "id": "elder-default",
   "metadata": {},
   "outputs": [
    {
     "name": "stderr",
     "output_type": "stream",
     "text": [
      "c:\\users\\chakradharnaidu.s\\appdata\\local\\programs\\python\\python39\\lib\\site-packages\\sklearn\\utils\\validation.py:63: DataConversionWarning: A column-vector y was passed when a 1d array was expected. Please change the shape of y to (n_samples, ), for example using ravel().\n",
      "  return f(*args, **kwargs)\n"
     ]
    },
    {
     "data": {
      "text/plain": [
       "SVC(kernel='sigmoid')"
      ]
     },
     "execution_count": 57,
     "metadata": {},
     "output_type": "execute_result"
    }
   ],
   "source": [
    "SVC_model = SVC(kernel='sigmoid')\n",
    "SVC_model.fit(X_train,y_train)"
   ]
  },
  {
   "cell_type": "code",
   "execution_count": 58,
   "id": "established-thumbnail",
   "metadata": {},
   "outputs": [],
   "source": [
    "y_pred = SVC_model.predict(X_test)"
   ]
  },
  {
   "cell_type": "code",
   "execution_count": 59,
   "id": "interesting-myrtle",
   "metadata": {},
   "outputs": [
    {
     "name": "stdout",
     "output_type": "stream",
     "text": [
      "Accuracy for SVM-sigmoid: 0.5571428571428572\n"
     ]
    }
   ],
   "source": [
    "print(\"Accuracy for SVM-sigmoid:\",metrics.accuracy_score(y_test, y_pred))"
   ]
  },
  {
   "cell_type": "code",
   "execution_count": 60,
   "id": "sized-preliminary",
   "metadata": {},
   "outputs": [
    {
     "name": "stdout",
     "output_type": "stream",
     "text": [
      "confusion_matrix for SVM-sigmoid:\n",
      " [[38  7]\n",
      " [24  1]]\n"
     ]
    }
   ],
   "source": [
    "print(\"confusion_matrix for SVM-sigmoid:\\n\",metrics.confusion_matrix(y_test, y_pred))"
   ]
  },
  {
   "cell_type": "code",
   "execution_count": 61,
   "id": "artificial-village",
   "metadata": {},
   "outputs": [
    {
     "name": "stdout",
     "output_type": "stream",
     "text": [
      "classification_report for SVM-sigmoid:\n",
      "               precision    recall  f1-score   support\n",
      "\n",
      "           0       0.61      0.84      0.71        45\n",
      "           1       0.12      0.04      0.06        25\n",
      "\n",
      "    accuracy                           0.56        70\n",
      "   macro avg       0.37      0.44      0.39        70\n",
      "weighted avg       0.44      0.56      0.48        70\n",
      "\n"
     ]
    }
   ],
   "source": [
    "print(\"classification_report for SVM-sigmoid:\\n\",classification_report(y_test, y_pred))"
   ]
  },
  {
   "cell_type": "markdown",
   "id": "ready-sunrise",
   "metadata": {},
   "source": [
    "# KNeighborsClassifier(KNN)"
   ]
  },
  {
   "cell_type": "code",
   "execution_count": 62,
   "id": "overhead-royal",
   "metadata": {},
   "outputs": [
    {
     "name": "stderr",
     "output_type": "stream",
     "text": [
      "c:\\users\\chakradharnaidu.s\\appdata\\local\\programs\\python\\python39\\lib\\site-packages\\sklearn\\neighbors\\_classification.py:179: DataConversionWarning: A column-vector y was passed when a 1d array was expected. Please change the shape of y to (n_samples,), for example using ravel().\n",
      "  return self._fit(X, y)\n"
     ]
    },
    {
     "data": {
      "text/plain": [
       "KNeighborsClassifier(n_neighbors=7)"
      ]
     },
     "execution_count": 62,
     "metadata": {},
     "output_type": "execute_result"
    }
   ],
   "source": [
    "from sklearn.neighbors import KNeighborsClassifier\n",
    "knn = KNeighborsClassifier(n_neighbors=7)\n",
    "knn.fit(X_train,y_train)"
   ]
  },
  {
   "cell_type": "code",
   "execution_count": 63,
   "id": "environmental-bahamas",
   "metadata": {},
   "outputs": [],
   "source": [
    "y_pred = knn.predict(X_test)"
   ]
  },
  {
   "cell_type": "code",
   "execution_count": 64,
   "id": "swedish-bailey",
   "metadata": {},
   "outputs": [
    {
     "name": "stdout",
     "output_type": "stream",
     "text": [
      "Accuracy for KNN: 0.7857142857142857\n"
     ]
    }
   ],
   "source": [
    "print(\"Accuracy for KNN:\",metrics.accuracy_score(y_test, y_pred))"
   ]
  },
  {
   "cell_type": "code",
   "execution_count": 65,
   "id": "derived-bryan",
   "metadata": {},
   "outputs": [
    {
     "name": "stdout",
     "output_type": "stream",
     "text": [
      "confusion_matrix for KNN:\n",
      " [[33 12]\n",
      " [ 3 22]]\n"
     ]
    }
   ],
   "source": [
    "print(\"confusion_matrix for KNN:\\n\",metrics.confusion_matrix(y_test, y_pred))"
   ]
  },
  {
   "cell_type": "code",
   "execution_count": 66,
   "id": "aquatic-lending",
   "metadata": {},
   "outputs": [
    {
     "name": "stdout",
     "output_type": "stream",
     "text": [
      "classification_report for KNN:\n",
      "               precision    recall  f1-score   support\n",
      "\n",
      "           0       0.92      0.73      0.81        45\n",
      "           1       0.65      0.88      0.75        25\n",
      "\n",
      "    accuracy                           0.79        70\n",
      "   macro avg       0.78      0.81      0.78        70\n",
      "weighted avg       0.82      0.79      0.79        70\n",
      "\n"
     ]
    }
   ],
   "source": [
    "print(\"classification_report for KNN:\\n\",classification_report(y_test, y_pred))"
   ]
  },
  {
   "cell_type": "markdown",
   "id": "after-mason",
   "metadata": {},
   "source": [
    "# Naive Bayes"
   ]
  },
  {
   "cell_type": "code",
   "execution_count": 67,
   "id": "regular-regulation",
   "metadata": {},
   "outputs": [],
   "source": [
    "from sklearn.naive_bayes import GaussianNB"
   ]
  },
  {
   "cell_type": "code",
   "execution_count": 68,
   "id": "dominican-rating",
   "metadata": {},
   "outputs": [
    {
     "name": "stderr",
     "output_type": "stream",
     "text": [
      "c:\\users\\chakradharnaidu.s\\appdata\\local\\programs\\python\\python39\\lib\\site-packages\\sklearn\\utils\\validation.py:63: DataConversionWarning: A column-vector y was passed when a 1d array was expected. Please change the shape of y to (n_samples, ), for example using ravel().\n",
      "  return f(*args, **kwargs)\n"
     ]
    },
    {
     "data": {
      "text/plain": [
       "GaussianNB()"
      ]
     },
     "execution_count": 68,
     "metadata": {},
     "output_type": "execute_result"
    }
   ],
   "source": [
    "model = GaussianNB()\n",
    "model.fit(X_train,y_train)"
   ]
  },
  {
   "cell_type": "code",
   "execution_count": 69,
   "id": "beneficial-spray",
   "metadata": {},
   "outputs": [],
   "source": [
    "y_pred = model.predict(X_test)"
   ]
  },
  {
   "cell_type": "code",
   "execution_count": 70,
   "id": "successful-boundary",
   "metadata": {},
   "outputs": [
    {
     "name": "stdout",
     "output_type": "stream",
     "text": [
      "Accuracy for Naive Bayes: 0.9285714285714286\n"
     ]
    }
   ],
   "source": [
    "print(\"Accuracy for Naive Bayes:\",metrics.accuracy_score(y_test, y_pred))"
   ]
  },
  {
   "cell_type": "code",
   "execution_count": 71,
   "id": "educated-density",
   "metadata": {},
   "outputs": [
    {
     "name": "stdout",
     "output_type": "stream",
     "text": [
      "confusion_matrix for Naive Bayes:\n",
      " [[42  3]\n",
      " [ 2 23]]\n"
     ]
    }
   ],
   "source": [
    "print(\"confusion_matrix for Naive Bayes:\\n\",metrics.confusion_matrix(y_test, y_pred))"
   ]
  },
  {
   "cell_type": "code",
   "execution_count": 72,
   "id": "received-bradford",
   "metadata": {},
   "outputs": [
    {
     "name": "stdout",
     "output_type": "stream",
     "text": [
      "classification_report for Naive Bayes:\n",
      "               precision    recall  f1-score   support\n",
      "\n",
      "           0       0.95      0.93      0.94        45\n",
      "           1       0.88      0.92      0.90        25\n",
      "\n",
      "    accuracy                           0.93        70\n",
      "   macro avg       0.92      0.93      0.92        70\n",
      "weighted avg       0.93      0.93      0.93        70\n",
      "\n"
     ]
    }
   ],
   "source": [
    "print(\"classification_report for Naive Bayes:\\n\",classification_report(y_test, y_pred))"
   ]
  },
  {
   "cell_type": "code",
   "execution_count": 73,
   "id": "thermal-australia",
   "metadata": {},
   "outputs": [
    {
     "name": "stdout",
     "output_type": "stream",
     "text": [
      "Accuracy for Logistic Regression: 97.14285714285714\n",
      "Accuracy for DecisionTreeClassifier: 94.28571428571428\n",
      "Accuracy for RandomForest: 97.14285714285714\n",
      "Accuracy for SVM: 84.28571428571429\n",
      "Accuracy for SVM-linear kernel: 97.14285714285714\n",
      "Accuracy for SVM-sigmoid: 55.714285714285715\n",
      "Accuracy for KNN: 78.57142857142857\n",
      "Accuracy for Naive Bayes: 92.85714285714286\n"
     ]
    }
   ],
   "source": [
    "print(\"Accuracy for Logistic Regression:\",0.9714285714285714*100)\n",
    "print(\"Accuracy for DecisionTreeClassifier:\",0.9428571428571428*100)\n",
    "print(\"Accuracy for RandomForest:\",0.9714285714285714*100)\n",
    "print(\"Accuracy for SVM:\",0.8428571428571429*100)\n",
    "print(\"Accuracy for SVM-linear kernel:\",0.9714285714285714*100)\n",
    "print(\"Accuracy for SVM-sigmoid:\",0.5571428571428572*100)\n",
    "print(\"Accuracy for KNN:\",0.7857142857142857*100)\n",
    "print(\"Accuracy for Naive Bayes:\",0.9285714285714286*100)"
   ]
  },
  {
   "cell_type": "markdown",
   "id": "pending-creek",
   "metadata": {},
   "source": [
    "# Here we can conclude that for more accuracy we can use Logistic Regression or RandomForest or SVM-Linear Kernel."
   ]
  },
  {
   "cell_type": "code",
   "execution_count": 74,
   "id": "norwegian-indicator",
   "metadata": {},
   "outputs": [],
   "source": [
    "import pickle\n",
    "filename = 'Model'\n",
    "outfile = open(filename,'wb')\n",
    "pickle.dump(SVC_model,outfile)\n",
    "outfile.close()"
   ]
  },
  {
   "cell_type": "code",
   "execution_count": null,
   "id": "dense-notion",
   "metadata": {},
   "outputs": [],
   "source": []
  },
  {
   "cell_type": "markdown",
   "id": "owned-seventh",
   "metadata": {},
   "source": [
    "# ROUGH WORK"
   ]
  },
  {
   "cell_type": "code",
   "execution_count": null,
   "id": "vocal-subscriber",
   "metadata": {},
   "outputs": [],
   "source": []
  },
  {
   "cell_type": "code",
   "execution_count": 75,
   "id": "eleven-charlotte",
   "metadata": {},
   "outputs": [
    {
     "data": {
      "text/plain": [
       "array([[312, 80.0, 70.0, 1.02, 0.0, 0.0, 1, 0.0, 1, 1,\n",
       "        150.18623481781376, 56.983834586466166, 3.00615671641791, 135.0,\n",
       "        4.1, 15.3, 48.0, '6300', '6.1', 0, 0.0, 0.0, 0, 1, 1, 1]],\n",
       "      dtype=object)"
      ]
     },
     "execution_count": 75,
     "metadata": {},
     "output_type": "execute_result"
    }
   ],
   "source": [
    "data[177:178].values"
   ]
  },
  {
   "cell_type": "code",
   "execution_count": 76,
   "id": "lonely-camcorder",
   "metadata": {},
   "outputs": [
    {
     "data": {
      "text/plain": [
       "17.6"
      ]
     },
     "execution_count": 76,
     "metadata": {},
     "output_type": "execute_result"
    }
   ],
   "source": [
    "X_train['hemo'].max()"
   ]
  },
  {
   "cell_type": "code",
   "execution_count": 77,
   "id": "adaptive-theorem",
   "metadata": {},
   "outputs": [
    {
     "data": {
      "text/plain": [
       "3.1"
      ]
     },
     "execution_count": 77,
     "metadata": {},
     "output_type": "execute_result"
    }
   ],
   "source": [
    "X_train['hemo'].min()"
   ]
  },
  {
   "cell_type": "code",
   "execution_count": 78,
   "id": "frequent-lounge",
   "metadata": {},
   "outputs": [],
   "source": [
    "import pickle\n",
    "pickle_in = open(\"Model\",\"rb\")\n",
    "Classifier = pickle.load(pickle_in)"
   ]
  },
  {
   "cell_type": "code",
   "execution_count": 79,
   "id": "smart-network",
   "metadata": {},
   "outputs": [
    {
     "name": "stdout",
     "output_type": "stream",
     "text": [
      "[0]\n"
     ]
    }
   ],
   "source": [
    "prediction = Classifier.predict([[60.0,70.000000,1.010000,2.00000,0.000000,1,0,1,144.000000,72.000000,137.255869,4.754245,9.700000,1,1.0,0.0,1,1,0]])\n",
    "print(prediction)"
   ]
  },
  {
   "cell_type": "code",
   "execution_count": 80,
   "id": "raised-university",
   "metadata": {},
   "outputs": [
    {
     "name": "stdout",
     "output_type": "stream",
     "text": [
      "[0]\n"
     ]
    }
   ],
   "source": [
    "prediction = Classifier.predict([[10.0,80.000000,1.020000,0.00000,0.000000,1,1,1,150.186235,56.983835,135.000000,4.100000,15.300000,0,0.0,0.0,0,1,1]])\n",
    "print(prediction)"
   ]
  },
  {
   "cell_type": "code",
   "execution_count": 81,
   "id": "pacific-reader",
   "metadata": {},
   "outputs": [],
   "source": [
    "X_train = data[['age', 'bp', 'sg', 'al', 'su', 'rbc', 'pcc', 'ba', 'bgr',\n",
    "     'bu', 'sod', 'pot', 'hemo', 'htn', 'dm','cad','appet', 'pe', 'ane']]\n",
    "y_train = data[['classification']]"
   ]
  },
  {
   "cell_type": "code",
   "execution_count": 82,
   "id": "secondary-jewelry",
   "metadata": {},
   "outputs": [
    {
     "name": "stderr",
     "output_type": "stream",
     "text": [
      "c:\\users\\chakradharnaidu.s\\appdata\\local\\programs\\python\\python39\\lib\\site-packages\\sklearn\\utils\\validation.py:63: DataConversionWarning: A column-vector y was passed when a 1d array was expected. Please change the shape of y to (n_samples, ), for example using ravel().\n",
      "  return f(*args, **kwargs)\n"
     ]
    },
    {
     "data": {
      "text/plain": [
       "SVC(kernel='linear')"
      ]
     },
     "execution_count": 82,
     "metadata": {},
     "output_type": "execute_result"
    }
   ],
   "source": [
    "SVC_model = SVC(kernel='linear')\n",
    "SVC_model.fit(X_train,y_train)"
   ]
  },
  {
   "cell_type": "code",
   "execution_count": 83,
   "id": "selective-holmes",
   "metadata": {},
   "outputs": [],
   "source": [
    "y_pred = SVC_model.predict(X_test)"
   ]
  },
  {
   "cell_type": "code",
   "execution_count": 84,
   "id": "disabled-spouse",
   "metadata": {},
   "outputs": [],
   "source": [
    "import pickle\n",
    "filename = 'ModelSVM'\n",
    "outfile = open(filename,'wb')\n",
    "pickle.dump(SVC_model,outfile)\n",
    "outfile.close()"
   ]
  },
  {
   "cell_type": "code",
   "execution_count": 85,
   "id": "superb-hawaiian",
   "metadata": {},
   "outputs": [],
   "source": [
    "import pickle\n",
    "pickle_in = open(\"ModelSVM\",\"rb\")\n",
    "Classifier = pickle.load(pickle_in)"
   ]
  },
  {
   "cell_type": "code",
   "execution_count": 86,
   "id": "deadly-lyric",
   "metadata": {},
   "outputs": [
    {
     "data": {
      "text/html": [
       "<div>\n",
       "<style scoped>\n",
       "    .dataframe tbody tr th:only-of-type {\n",
       "        vertical-align: middle;\n",
       "    }\n",
       "\n",
       "    .dataframe tbody tr th {\n",
       "        vertical-align: top;\n",
       "    }\n",
       "\n",
       "    .dataframe thead th {\n",
       "        text-align: right;\n",
       "    }\n",
       "</style>\n",
       "<table border=\"1\" class=\"dataframe\">\n",
       "  <thead>\n",
       "    <tr style=\"text-align: right;\">\n",
       "      <th></th>\n",
       "      <th>age</th>\n",
       "      <th>bp</th>\n",
       "      <th>sg</th>\n",
       "      <th>al</th>\n",
       "      <th>su</th>\n",
       "      <th>rbc</th>\n",
       "      <th>pcc</th>\n",
       "      <th>ba</th>\n",
       "      <th>bgr</th>\n",
       "      <th>bu</th>\n",
       "      <th>sod</th>\n",
       "      <th>pot</th>\n",
       "      <th>hemo</th>\n",
       "      <th>htn</th>\n",
       "      <th>dm</th>\n",
       "      <th>cad</th>\n",
       "      <th>appet</th>\n",
       "      <th>pe</th>\n",
       "      <th>ane</th>\n",
       "    </tr>\n",
       "  </thead>\n",
       "  <tbody>\n",
       "    <tr>\n",
       "      <th>1</th>\n",
       "      <td>54.0</td>\n",
       "      <td>70.0</td>\n",
       "      <td>1.017439</td>\n",
       "      <td>1.02449</td>\n",
       "      <td>0.438017</td>\n",
       "      <td>1</td>\n",
       "      <td>1</td>\n",
       "      <td>1</td>\n",
       "      <td>233.000000</td>\n",
       "      <td>50.1</td>\n",
       "      <td>137.255869</td>\n",
       "      <td>4.754245</td>\n",
       "      <td>11.7</td>\n",
       "      <td>0</td>\n",
       "      <td>1.0</td>\n",
       "      <td>0.0</td>\n",
       "      <td>0</td>\n",
       "      <td>1</td>\n",
       "      <td>1</td>\n",
       "    </tr>\n",
       "    <tr>\n",
       "      <th>2</th>\n",
       "      <td>47.0</td>\n",
       "      <td>80.0</td>\n",
       "      <td>1.017439</td>\n",
       "      <td>1.02449</td>\n",
       "      <td>0.438017</td>\n",
       "      <td>1</td>\n",
       "      <td>1</td>\n",
       "      <td>1</td>\n",
       "      <td>114.000000</td>\n",
       "      <td>87.0</td>\n",
       "      <td>139.000000</td>\n",
       "      <td>3.700000</td>\n",
       "      <td>12.1</td>\n",
       "      <td>1</td>\n",
       "      <td>0.0</td>\n",
       "      <td>0.0</td>\n",
       "      <td>1</td>\n",
       "      <td>1</td>\n",
       "      <td>1</td>\n",
       "    </tr>\n",
       "    <tr>\n",
       "      <th>3</th>\n",
       "      <td>43.0</td>\n",
       "      <td>60.0</td>\n",
       "      <td>1.025000</td>\n",
       "      <td>0.00000</td>\n",
       "      <td>0.000000</td>\n",
       "      <td>1</td>\n",
       "      <td>1</td>\n",
       "      <td>1</td>\n",
       "      <td>108.000000</td>\n",
       "      <td>25.0</td>\n",
       "      <td>144.000000</td>\n",
       "      <td>5.000000</td>\n",
       "      <td>17.8</td>\n",
       "      <td>0</td>\n",
       "      <td>0.0</td>\n",
       "      <td>0.0</td>\n",
       "      <td>0</td>\n",
       "      <td>1</td>\n",
       "      <td>1</td>\n",
       "    </tr>\n",
       "    <tr>\n",
       "      <th>4</th>\n",
       "      <td>42.0</td>\n",
       "      <td>100.0</td>\n",
       "      <td>1.015000</td>\n",
       "      <td>4.00000</td>\n",
       "      <td>0.000000</td>\n",
       "      <td>1</td>\n",
       "      <td>1</td>\n",
       "      <td>0</td>\n",
       "      <td>150.186235</td>\n",
       "      <td>50.0</td>\n",
       "      <td>129.000000</td>\n",
       "      <td>4.000000</td>\n",
       "      <td>11.1</td>\n",
       "      <td>1</td>\n",
       "      <td>0.0</td>\n",
       "      <td>0.0</td>\n",
       "      <td>1</td>\n",
       "      <td>1</td>\n",
       "      <td>1</td>\n",
       "    </tr>\n",
       "  </tbody>\n",
       "</table>\n",
       "</div>"
      ],
      "text/plain": [
       "    age     bp        sg       al        su  rbc  pcc  ba         bgr    bu  \\\n",
       "1  54.0   70.0  1.017439  1.02449  0.438017    1    1   1  233.000000  50.1   \n",
       "2  47.0   80.0  1.017439  1.02449  0.438017    1    1   1  114.000000  87.0   \n",
       "3  43.0   60.0  1.025000  0.00000  0.000000    1    1   1  108.000000  25.0   \n",
       "4  42.0  100.0  1.015000  4.00000  0.000000    1    1   0  150.186235  50.0   \n",
       "\n",
       "          sod       pot  hemo  htn   dm  cad  appet  pe  ane  \n",
       "1  137.255869  4.754245  11.7    0  1.0  0.0      0   1    1  \n",
       "2  139.000000  3.700000  12.1    1  0.0  0.0      1   1    1  \n",
       "3  144.000000  5.000000  17.8    0  0.0  0.0      0   1    1  \n",
       "4  129.000000  4.000000  11.1    1  0.0  0.0      1   1    1  "
      ]
     },
     "execution_count": 86,
     "metadata": {},
     "output_type": "execute_result"
    }
   ],
   "source": [
    "X_train[1:5]"
   ]
  },
  {
   "cell_type": "code",
   "execution_count": 87,
   "id": "aggressive-walter",
   "metadata": {},
   "outputs": [
    {
     "name": "stdout",
     "output_type": "stream",
     "text": [
      "[1]\n"
     ]
    }
   ],
   "source": [
    "prediction = Classifier.predict([[80.0,70.000000,1.020000,0.00000,0.000000,1,1,1,150.186235,56.983835,135.000000,4.100000,15.300000,0,0.0,0.0,0,1,1]])\n",
    "print(prediction)"
   ]
  },
  {
   "cell_type": "code",
   "execution_count": 88,
   "id": "direct-underground",
   "metadata": {},
   "outputs": [
    {
     "name": "stdout",
     "output_type": "stream",
     "text": [
      "[0]\n"
     ]
    }
   ],
   "source": [
    "prediction = Classifier.predict([[60.0,70.000000,1.010000,2.00000,0.000000,1,0,1,144.000000,72.000000,137.255869,4.754245,9.700000,1,1.0,0.0,1,1,0]])\n",
    "print(prediction)"
   ]
  },
  {
   "cell_type": "code",
   "execution_count": 103,
   "id": "animal-wagner",
   "metadata": {},
   "outputs": [
    {
     "name": "stdout",
     "output_type": "stream",
     "text": [
      "0.80.0\n"
     ]
    }
   ],
   "source": [
    "import streamlit as pd\n",
    "\n",
    "print(pd.__version__)"
   ]
  },
  {
   "cell_type": "code",
   "execution_count": null,
   "id": "governing-skating",
   "metadata": {},
   "outputs": [],
   "source": []
  }
 ],
 "metadata": {
  "kernelspec": {
   "display_name": "Python 3",
   "language": "python",
   "name": "python3"
  },
  "language_info": {
   "codemirror_mode": {
    "name": "ipython",
    "version": 3
   },
   "file_extension": ".py",
   "mimetype": "text/x-python",
   "name": "python",
   "nbconvert_exporter": "python",
   "pygments_lexer": "ipython3",
   "version": "3.9.0"
  }
 },
 "nbformat": 4,
 "nbformat_minor": 5
}
